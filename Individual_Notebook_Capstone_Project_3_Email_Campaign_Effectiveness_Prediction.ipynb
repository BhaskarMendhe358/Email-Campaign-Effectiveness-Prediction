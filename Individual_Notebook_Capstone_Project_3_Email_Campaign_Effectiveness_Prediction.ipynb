{
  "cells": [
    {
      "cell_type": "markdown",
      "metadata": {
        "id": "view-in-github",
        "colab_type": "text"
      },
      "source": [
        "<a href=\"https://colab.research.google.com/github/BhaskarMendhe358/Email-Campaign-Effectiveness-Prediction/blob/main/Individual_Notebook_Capstone_Project_3_Email_Campaign_Effectiveness_Prediction.ipynb\" target=\"_parent\"><img src=\"https://colab.research.google.com/assets/colab-badge.svg\" alt=\"Open In Colab\"/></a>"
      ]
    },
    {
      "cell_type": "markdown",
      "metadata": {
        "id": "KskobK4sgsCY"
      },
      "source": [
        "# <b><u> Project Title : Email Campaign Effectiveness Prediction </u></b>"
      ]
    },
    {
      "cell_type": "markdown",
      "metadata": {
        "id": "GPuZDip0g7mO"
      },
      "source": [
        "## <b> Problem Description </b>\n",
        "\n",
        "### Most of the small to medium business owners are making effective use of Gmail-based Email Marketing Strategies for offline targeting of converting their prospective customers into leads so that they stay with them in Business. The main objective is to create a machine learning model to characterize the mail that is ignored ; read ; acknowledged by the reader."
      ]
    },
    {
      "cell_type": "markdown",
      "metadata": {
        "id": "FRsh1zachi7t"
      },
      "source": [
        "## **Mounting the drive**"
      ]
    },
    {
      "cell_type": "code",
      "execution_count": null,
      "metadata": {
        "colab": {
          "base_uri": "https://localhost:8080/"
        },
        "id": "W7BJKUt8hpew",
        "outputId": "5a30caf9-fb81-41a6-fcfb-570ca26da5af"
      },
      "outputs": [
        {
          "output_type": "stream",
          "name": "stdout",
          "text": [
            "Mounted at /content/drive\n"
          ]
        }
      ],
      "source": [
        "from google.colab import drive\n",
        "drive.mount('/content/drive')"
      ]
    },
    {
      "cell_type": "markdown",
      "metadata": {
        "id": "Fly1Zzpwh6KD"
      },
      "source": [
        "## **Importing Necessary Libraries**"
      ]
    },
    {
      "cell_type": "code",
      "execution_count": null,
      "metadata": {
        "id": "aUxDKz9WiDUA"
      },
      "outputs": [],
      "source": [
        "# Importing Necessary Libraries.\n",
        "\n",
        "# For Data Reading and Manipulation -- pandas and numpy.\n",
        "import pandas as pd\n",
        "import numpy as np\n",
        "\n",
        "# For Data Visualization -- matplotlib.pyplot and seaborn.\n",
        "import matplotlib.pyplot as plt\n",
        "import seaborn as sns\n",
        "\n",
        "# For checking multicollinearity -- variance_inflation_factor.\n",
        "from statsmodels.stats.outliers_influence import variance_inflation_factor\n",
        "\n",
        "# For Data Preprocessing.\n",
        "## To transform numerical features -- PowerTransformer.\n",
        "from sklearn.preprocessing import PowerTransformer\n",
        "## To normalize numerical features -- MinMaxScaler.\n",
        "from sklearn.preprocessing import MinMaxScaler\n",
        "## To transform categorical Features -- OneHotEncoder.\n",
        "from sklearn.preprocessing import OneHotEncoder\n",
        "## To impute missing numerical values -- IterativeImputer.\n",
        "from sklearn.experimental import enable_iterative_imputer\n",
        "from sklearn.impute import IterativeImputer\n",
        "## To impute missing categorical values -- SimpleImputer.\n",
        "from sklearn.impute import SimpleImputer\n",
        "\n",
        "# Data Splitting -- train_test_split.\n",
        "from sklearn.model_selection import train_test_split\n",
        "\n",
        "# HyperParameter tuning -- GridSearchCV.\n",
        "from sklearn.model_selection import GridSearchCV\n",
        "\n",
        "# Models -- Linear and Non Linear.\n",
        "from sklearn.linear_model import LogisticRegression\n",
        "from sklearn.naive_bayes import GaussianNB\n",
        "from sklearn.tree import DecisionTreeClassifier\n",
        "from sklearn.ensemble import RandomForestClassifier\n",
        "from xgboost import XGBClassifier\n",
        "\n",
        "# Feature Engineering -- adding polynomials using PolynomialFeatures\n",
        "from sklearn.preprocessing import PolynomialFeatures\n",
        "\n",
        "# PrettyTable - Tabular  representation of results.\n",
        "from prettytable import PrettyTable,ALL\n",
        "\n",
        "# Metrics for checking performance -- precision,recall,f1 and roc_auc scores.\n",
        "from sklearn.metrics import confusion_matrix,ConfusionMatrixDisplay,precision_score,recall_score,f1_score,roc_auc_score\n",
        "\n",
        "# To neglect warnings -- warnings.\n",
        "import warnings\n",
        "warnings.filterwarnings(\"ignore\")"
      ]
    },
    {
      "cell_type": "markdown",
      "metadata": {
        "id": "obgWzA08jHR2"
      },
      "source": [
        "## **Reading the Data**"
      ]
    },
    {
      "cell_type": "code",
      "execution_count": null,
      "metadata": {
        "id": "JwNx3N8VjNzk"
      },
      "outputs": [],
      "source": [
        "# Importing the dataset.\n",
        "ec = pd.read_csv(\"/content/drive/MyDrive/AlmaBetter/Email_Campaign/data_email_campaign.csv\")"
      ]
    },
    {
      "cell_type": "markdown",
      "source": [],
      "metadata": {
        "id": "dhZhZmcYTcu6"
      }
    },
    {
      "cell_type": "markdown",
      "source": [],
      "metadata": {
        "id": "sydvHNvvTcpz"
      }
    },
    {
      "cell_type": "code",
      "execution_count": null,
      "metadata": {
        "colab": {
          "base_uri": "https://localhost:8080/"
        },
        "id": "xYn-8nvAkIzt",
        "outputId": "6e29d0bf-54de-48d0-eb78-f95079898a68"
      },
      "outputs": [
        {
          "output_type": "stream",
          "name": "stdout",
          "text": [
            "<class 'pandas.core.frame.DataFrame'>\n",
            "RangeIndex: 68353 entries, 0 to 68352\n",
            "Data columns (total 12 columns):\n",
            " #   Column                     Non-Null Count  Dtype  \n",
            "---  ------                     --------------  -----  \n",
            " 0   Email_ID                   68353 non-null  object \n",
            " 1   Email_Type                 68353 non-null  int64  \n",
            " 2   Subject_Hotness_Score      68353 non-null  float64\n",
            " 3   Email_Source_Type          68353 non-null  int64  \n",
            " 4   Customer_Location          56758 non-null  object \n",
            " 5   Email_Campaign_Type        68353 non-null  int64  \n",
            " 6   Total_Past_Communications  61528 non-null  float64\n",
            " 7   Time_Email_sent_Category   68353 non-null  int64  \n",
            " 8   Word_Count                 68353 non-null  int64  \n",
            " 9   Total_Links                66152 non-null  float64\n",
            " 10  Total_Images               66676 non-null  float64\n",
            " 11  Email_Status               68353 non-null  int64  \n",
            "dtypes: float64(4), int64(6), object(2)\n",
            "memory usage: 6.3+ MB\n"
          ]
        }
      ],
      "source": [
        "# Checking dataset information.\n",
        "ec.info()"
      ]
    },
    {
      "cell_type": "code",
      "execution_count": null,
      "metadata": {
        "colab": {
          "base_uri": "https://localhost:8080/",
          "height": 270
        },
        "id": "Ke2TrpLBeDdA",
        "outputId": "b4912e42-48a1-45c7-c1b4-d8b28c682886"
      },
      "outputs": [
        {
          "output_type": "execute_result",
          "data": {
            "text/plain": [
              "            Email_ID  Email_Type  Subject_Hotness_Score  Email_Source_Type  \\\n",
              "0  EMA00081000034500           1                    2.2                  2   \n",
              "1  EMA00081000045360           2                    2.1                  1   \n",
              "2  EMA00081000066290           2                    0.1                  1   \n",
              "3  EMA00081000076560           1                    3.0                  2   \n",
              "4  EMA00081000109720           1                    0.0                  2   \n",
              "\n",
              "  Customer_Location  Email_Campaign_Type  Total_Past_Communications  \\\n",
              "0                 E                    2                       33.0   \n",
              "1               NaN                    2                       15.0   \n",
              "2                 B                    3                       36.0   \n",
              "3                 E                    2                       25.0   \n",
              "4                 C                    3                       18.0   \n",
              "\n",
              "   Time_Email_sent_Category  Word_Count  Total_Links  Total_Images  \\\n",
              "0                         1         440          8.0           0.0   \n",
              "1                         2         504          5.0           0.0   \n",
              "2                         2         962          5.0           0.0   \n",
              "3                         2         610         16.0           0.0   \n",
              "4                         2         947          4.0           0.0   \n",
              "\n",
              "   Email_Status  \n",
              "0             0  \n",
              "1             0  \n",
              "2             1  \n",
              "3             0  \n",
              "4             0  "
            ],
            "text/html": [
              "\n",
              "  <div id=\"df-c5c05be9-5972-49df-902c-c42984e2cc18\">\n",
              "    <div class=\"colab-df-container\">\n",
              "      <div>\n",
              "<style scoped>\n",
              "    .dataframe tbody tr th:only-of-type {\n",
              "        vertical-align: middle;\n",
              "    }\n",
              "\n",
              "    .dataframe tbody tr th {\n",
              "        vertical-align: top;\n",
              "    }\n",
              "\n",
              "    .dataframe thead th {\n",
              "        text-align: right;\n",
              "    }\n",
              "</style>\n",
              "<table border=\"1\" class=\"dataframe\">\n",
              "  <thead>\n",
              "    <tr style=\"text-align: right;\">\n",
              "      <th></th>\n",
              "      <th>Email_ID</th>\n",
              "      <th>Email_Type</th>\n",
              "      <th>Subject_Hotness_Score</th>\n",
              "      <th>Email_Source_Type</th>\n",
              "      <th>Customer_Location</th>\n",
              "      <th>Email_Campaign_Type</th>\n",
              "      <th>Total_Past_Communications</th>\n",
              "      <th>Time_Email_sent_Category</th>\n",
              "      <th>Word_Count</th>\n",
              "      <th>Total_Links</th>\n",
              "      <th>Total_Images</th>\n",
              "      <th>Email_Status</th>\n",
              "    </tr>\n",
              "  </thead>\n",
              "  <tbody>\n",
              "    <tr>\n",
              "      <th>0</th>\n",
              "      <td>EMA00081000034500</td>\n",
              "      <td>1</td>\n",
              "      <td>2.2</td>\n",
              "      <td>2</td>\n",
              "      <td>E</td>\n",
              "      <td>2</td>\n",
              "      <td>33.0</td>\n",
              "      <td>1</td>\n",
              "      <td>440</td>\n",
              "      <td>8.0</td>\n",
              "      <td>0.0</td>\n",
              "      <td>0</td>\n",
              "    </tr>\n",
              "    <tr>\n",
              "      <th>1</th>\n",
              "      <td>EMA00081000045360</td>\n",
              "      <td>2</td>\n",
              "      <td>2.1</td>\n",
              "      <td>1</td>\n",
              "      <td>NaN</td>\n",
              "      <td>2</td>\n",
              "      <td>15.0</td>\n",
              "      <td>2</td>\n",
              "      <td>504</td>\n",
              "      <td>5.0</td>\n",
              "      <td>0.0</td>\n",
              "      <td>0</td>\n",
              "    </tr>\n",
              "    <tr>\n",
              "      <th>2</th>\n",
              "      <td>EMA00081000066290</td>\n",
              "      <td>2</td>\n",
              "      <td>0.1</td>\n",
              "      <td>1</td>\n",
              "      <td>B</td>\n",
              "      <td>3</td>\n",
              "      <td>36.0</td>\n",
              "      <td>2</td>\n",
              "      <td>962</td>\n",
              "      <td>5.0</td>\n",
              "      <td>0.0</td>\n",
              "      <td>1</td>\n",
              "    </tr>\n",
              "    <tr>\n",
              "      <th>3</th>\n",
              "      <td>EMA00081000076560</td>\n",
              "      <td>1</td>\n",
              "      <td>3.0</td>\n",
              "      <td>2</td>\n",
              "      <td>E</td>\n",
              "      <td>2</td>\n",
              "      <td>25.0</td>\n",
              "      <td>2</td>\n",
              "      <td>610</td>\n",
              "      <td>16.0</td>\n",
              "      <td>0.0</td>\n",
              "      <td>0</td>\n",
              "    </tr>\n",
              "    <tr>\n",
              "      <th>4</th>\n",
              "      <td>EMA00081000109720</td>\n",
              "      <td>1</td>\n",
              "      <td>0.0</td>\n",
              "      <td>2</td>\n",
              "      <td>C</td>\n",
              "      <td>3</td>\n",
              "      <td>18.0</td>\n",
              "      <td>2</td>\n",
              "      <td>947</td>\n",
              "      <td>4.0</td>\n",
              "      <td>0.0</td>\n",
              "      <td>0</td>\n",
              "    </tr>\n",
              "  </tbody>\n",
              "</table>\n",
              "</div>\n",
              "      <button class=\"colab-df-convert\" onclick=\"convertToInteractive('df-c5c05be9-5972-49df-902c-c42984e2cc18')\"\n",
              "              title=\"Convert this dataframe to an interactive table.\"\n",
              "              style=\"display:none;\">\n",
              "        \n",
              "  <svg xmlns=\"http://www.w3.org/2000/svg\" height=\"24px\"viewBox=\"0 0 24 24\"\n",
              "       width=\"24px\">\n",
              "    <path d=\"M0 0h24v24H0V0z\" fill=\"none\"/>\n",
              "    <path d=\"M18.56 5.44l.94 2.06.94-2.06 2.06-.94-2.06-.94-.94-2.06-.94 2.06-2.06.94zm-11 1L8.5 8.5l.94-2.06 2.06-.94-2.06-.94L8.5 2.5l-.94 2.06-2.06.94zm10 10l.94 2.06.94-2.06 2.06-.94-2.06-.94-.94-2.06-.94 2.06-2.06.94z\"/><path d=\"M17.41 7.96l-1.37-1.37c-.4-.4-.92-.59-1.43-.59-.52 0-1.04.2-1.43.59L10.3 9.45l-7.72 7.72c-.78.78-.78 2.05 0 2.83L4 21.41c.39.39.9.59 1.41.59.51 0 1.02-.2 1.41-.59l7.78-7.78 2.81-2.81c.8-.78.8-2.07 0-2.86zM5.41 20L4 18.59l7.72-7.72 1.47 1.35L5.41 20z\"/>\n",
              "  </svg>\n",
              "      </button>\n",
              "      \n",
              "  <style>\n",
              "    .colab-df-container {\n",
              "      display:flex;\n",
              "      flex-wrap:wrap;\n",
              "      gap: 12px;\n",
              "    }\n",
              "\n",
              "    .colab-df-convert {\n",
              "      background-color: #E8F0FE;\n",
              "      border: none;\n",
              "      border-radius: 50%;\n",
              "      cursor: pointer;\n",
              "      display: none;\n",
              "      fill: #1967D2;\n",
              "      height: 32px;\n",
              "      padding: 0 0 0 0;\n",
              "      width: 32px;\n",
              "    }\n",
              "\n",
              "    .colab-df-convert:hover {\n",
              "      background-color: #E2EBFA;\n",
              "      box-shadow: 0px 1px 2px rgba(60, 64, 67, 0.3), 0px 1px 3px 1px rgba(60, 64, 67, 0.15);\n",
              "      fill: #174EA6;\n",
              "    }\n",
              "\n",
              "    [theme=dark] .colab-df-convert {\n",
              "      background-color: #3B4455;\n",
              "      fill: #D2E3FC;\n",
              "    }\n",
              "\n",
              "    [theme=dark] .colab-df-convert:hover {\n",
              "      background-color: #434B5C;\n",
              "      box-shadow: 0px 1px 3px 1px rgba(0, 0, 0, 0.15);\n",
              "      filter: drop-shadow(0px 1px 2px rgba(0, 0, 0, 0.3));\n",
              "      fill: #FFFFFF;\n",
              "    }\n",
              "  </style>\n",
              "\n",
              "      <script>\n",
              "        const buttonEl =\n",
              "          document.querySelector('#df-c5c05be9-5972-49df-902c-c42984e2cc18 button.colab-df-convert');\n",
              "        buttonEl.style.display =\n",
              "          google.colab.kernel.accessAllowed ? 'block' : 'none';\n",
              "\n",
              "        async function convertToInteractive(key) {\n",
              "          const element = document.querySelector('#df-c5c05be9-5972-49df-902c-c42984e2cc18');\n",
              "          const dataTable =\n",
              "            await google.colab.kernel.invokeFunction('convertToInteractive',\n",
              "                                                     [key], {});\n",
              "          if (!dataTable) return;\n",
              "\n",
              "          const docLinkHtml = 'Like what you see? Visit the ' +\n",
              "            '<a target=\"_blank\" href=https://colab.research.google.com/notebooks/data_table.ipynb>data table notebook</a>'\n",
              "            + ' to learn more about interactive tables.';\n",
              "          element.innerHTML = '';\n",
              "          dataTable['output_type'] = 'display_data';\n",
              "          await google.colab.output.renderOutput(dataTable, element);\n",
              "          const docLink = document.createElement('div');\n",
              "          docLink.innerHTML = docLinkHtml;\n",
              "          element.appendChild(docLink);\n",
              "        }\n",
              "      </script>\n",
              "    </div>\n",
              "  </div>\n",
              "  "
            ]
          },
          "metadata": {},
          "execution_count": 5
        }
      ],
      "source": [
        "# Checking the content in the dataset.\n",
        "ec.head()"
      ]
    },
    {
      "cell_type": "markdown",
      "metadata": {
        "id": "KANkwo1piD7c"
      },
      "source": [
        "**Inference** : \n",
        "\n",
        "*   There are total 12 features out of which the feature \"Email_Status \" is a response variable and rest are predictor variables.\n",
        "*   As we can see, the features \"Email_Type\", \"Email_Source_Type\",  \"Email_Campaign_Type\" and \"Time_Email_sent_Category\" contains categorical values but these features mapped to wrong data type, so surely we have to look upon this.\n",
        "*   The \"Email_ID\" feature contains identity information so we can drop this feature for further procedures.\n"
      ]
    },
    {
      "cell_type": "code",
      "execution_count": null,
      "metadata": {
        "colab": {
          "base_uri": "https://localhost:8080/"
        },
        "id": "kVkKboChj5t7",
        "outputId": "fcc13834-3828-49b0-9fe3-52709a304fa5"
      },
      "outputs": [
        {
          "output_type": "execute_result",
          "data": {
            "text/plain": [
              "Email_ID                         0\n",
              "Email_Type                       0\n",
              "Subject_Hotness_Score            0\n",
              "Email_Source_Type                0\n",
              "Customer_Location            11595\n",
              "Email_Campaign_Type              0\n",
              "Total_Past_Communications     6825\n",
              "Time_Email_sent_Category         0\n",
              "Word_Count                       0\n",
              "Total_Links                   2201\n",
              "Total_Images                  1677\n",
              "Email_Status                     0\n",
              "dtype: int64"
            ]
          },
          "metadata": {},
          "execution_count": 6
        }
      ],
      "source": [
        "# Checking null values.\n",
        "ec.isnull().sum()"
      ]
    },
    {
      "cell_type": "markdown",
      "metadata": {
        "id": "lFSaZGVhkywq"
      },
      "source": [
        "**Inference** : The features \"Customer_Location\", \"Total_Past_Communications\", \"Total_Links\" and \"Total_Images\" have missing values. We need to take care of these missing values."
      ]
    },
    {
      "cell_type": "code",
      "execution_count": null,
      "metadata": {
        "colab": {
          "base_uri": "https://localhost:8080/"
        },
        "id": "tmWANGSkQnch",
        "outputId": "4cf4c01b-d60b-4ca5-ef3e-c1a72d74357a"
      },
      "outputs": [
        {
          "output_type": "execute_result",
          "data": {
            "text/plain": [
              "0"
            ]
          },
          "metadata": {},
          "execution_count": 7
        }
      ],
      "source": [
        "# Checking duplicate rows in the dataset.\n",
        "ec.duplicated().sum()"
      ]
    },
    {
      "cell_type": "markdown",
      "metadata": {
        "id": "9-hf4TbjQyMa"
      },
      "source": [
        "**Inference** : There are no duplicate rows in the dataset."
      ]
    },
    {
      "cell_type": "code",
      "execution_count": null,
      "metadata": {
        "id": "wr7L8J2Yi_wR"
      },
      "outputs": [],
      "source": [
        "# Let's create a copy of the original dataset so that changes don't reflect in that.\n",
        "data=ec.copy()"
      ]
    },
    {
      "cell_type": "markdown",
      "metadata": {
        "id": "sAMnI5Z4CfVf"
      },
      "source": [
        "## <b> Data Description </b>\n",
        "\n",
        "### <b> The dataset contains information related to emails like total number of past communications between business owners and their customers, total links attached etc. </b>\n",
        "\n",
        "\n",
        "### <b>Attribute Information: </b>\n",
        "\n",
        "\n",
        "*   **Email_ID** - Email ids of the customers.\n",
        "*   **Email_type** - There are 2 categories 1 and 2. We can think of them as marketing email or important updates,notices like emails regarding the business.\n",
        "*   **Subject_Hotness_Score** - Emails subject scores on the basis of how good and effective the content is.\n",
        "*   **Email_Source** - Represents the source of the email like sales,marketing or product type email.\n",
        "*   **Email_Campaign_Type** - The campaign type of the emails.\n",
        "*   **Total_Past_Communications** - The number of previous mails from the same source, the number of communications had.\n",
        "*   **Customer_Location** - Contains demographical data of the customers, the location where the customer resides.\n",
        "*   **Time_Email_sent_Category** - It has 3 categories: 1,2 and 3 which are considered as morning,evening and night time slots.\n",
        "*   **Word_Count** - The number of words contained in the mail.\n",
        "*   **Total_Links** - The number of links in the email.\n",
        "*   **Total_Images** - The number of images in the email.\n",
        "*   **Email_Status** - The target variable which contains whether the mail was is ignored; read; acknowledged by the reader."
      ]
    },
    {
      "cell_type": "markdown",
      "metadata": {
        "id": "ZKuWmxUcoQ61"
      },
      "source": [
        "## **Exploratory Data Analysis**"
      ]
    },
    {
      "cell_type": "markdown",
      "metadata": {
        "id": "8_Ol29UdbD-B"
      },
      "source": [
        "### **Response Variable**"
      ]
    },
    {
      "cell_type": "markdown",
      "metadata": {
        "id": "QpczbQWzbPSg"
      },
      "source": [
        "**The response variable is \"Email_Status\".**"
      ]
    },
    {
      "cell_type": "code",
      "execution_count": null,
      "metadata": {
        "colab": {
          "base_uri": "https://localhost:8080/"
        },
        "id": "D9Z1bJ0TiTud",
        "outputId": "b8f18ac1-7a57-47c7-ea88-7a6078055dd3"
      },
      "outputs": [
        {
          "output_type": "execute_result",
          "data": {
            "text/plain": [
              "0    54941\n",
              "1    11039\n",
              "2     2373\n",
              "Name: Email_Status, dtype: int64"
            ]
          },
          "metadata": {},
          "execution_count": 9
        }
      ],
      "source": [
        "# Checking distribution of classes in response vaiable.\n",
        "data['Email_Status'].value_counts().sort_index()"
      ]
    },
    {
      "cell_type": "code",
      "execution_count": null,
      "metadata": {
        "colab": {
          "base_uri": "https://localhost:8080/",
          "height": 280
        },
        "id": "ziNhxnhAbIYT",
        "outputId": "f9ecf371-7c0f-4e0d-8d7c-e3cda59d3339"
      },
      "outputs": [
        {
          "output_type": "display_data",
          "data": {
            "text/plain": [
              "<Figure size 432x288 with 1 Axes>"
            ],
            "image/png": "[encoded data removed]"
          },
          "metadata": {
            "needs_background": "light"
          }
        }
      ],
      "source": [
        "# Using countplot fo visualization.\n",
        "ax=sns.countplot(data['Email_Status'])\n",
        "# Marking height percent of each bar at top.\n",
        "for p in ax.patches:\n",
        "  ## Fetching height.\n",
        "  height=p.get_height()\n",
        "  ## Converting to percent for better understanding.\n",
        "  height_percent=str(round(height/len(data['Email_Status'])*100,2)) + ' %'\n",
        "  ## Marking height.\n",
        "  ax.annotate(height_percent,(p.get_x()+0.25, p.get_height()+0.01))\n",
        "plt.show()"
      ]
    },
    {
      "cell_type": "markdown",
      "metadata": {
        "id": "SHBQhXaYezuQ"
      },
      "source": [
        "**Inference** : There is high imbalance in class distribution of response variable. The majority of the data, 54941 data points which is 80.38 % belongs to \"class 0\", 11039 points which is 16.15 % belongs to class \"1\" and very small amount of data, 2373 data points which is 3.47% belongs to \"class 2\". We need to take care of this class imbalancy."
      ]
    },
    {
      "cell_type": "markdown",
      "metadata": {
        "id": "oJuYOuUDoXk_"
      },
      "source": [
        "### **Predictor Variables**"
      ]
    },
    {
      "cell_type": "code",
      "execution_count": null,
      "metadata": {
        "colab": {
          "base_uri": "https://localhost:8080/"
        },
        "id": "aVxepTjBqcCk",
        "outputId": "c0258cf2-c2c6-42d9-f1c8-6df04e60aa4e"
      },
      "outputs": [
        {
          "output_type": "stream",
          "name": "stdout",
          "text": [
            "1    48866\n",
            "2    19487\n",
            "Name: Email_Type, dtype: int64\n",
            "==============================\n",
            "1    37149\n",
            "2    31204\n",
            "Name: Email_Source_Type, dtype: int64\n",
            "==============================\n",
            "1      736\n",
            "2    48273\n",
            "3    19344\n",
            "Name: Email_Campaign_Type, dtype: int64\n",
            "==============================\n",
            "1    13636\n",
            "2    41129\n",
            "3    13588\n",
            "Name: Time_Email_sent_Category, dtype: int64\n"
          ]
        }
      ],
      "source": [
        "# Checking features \"Email_Type\", \"Email_Source_Type\", \"Email_Campaign_Type\" and \"Time_Email_sent_Category\".\n",
        "print(data['Email_Type'].value_counts().sort_index())\n",
        "print('='*30)\n",
        "print(data['Email_Source_Type'].value_counts().sort_index())\n",
        "print('='*30)\n",
        "print(data['Email_Campaign_Type'].value_counts().sort_index())\n",
        "print('='*30)\n",
        "print(data['Time_Email_sent_Category'].value_counts().sort_index())"
      ]
    },
    {
      "cell_type": "markdown",
      "metadata": {
        "id": "jKIw9wpOsX3R"
      },
      "source": [
        "**Inference** : We can see that the features \"Email_Type\", \"Email_Source_Type\", \"Email_Campaign_Type\" and \"Time_Email_sent_Category\" contains categorical information , so we will change the datatype according to that."
      ]
    },
    {
      "cell_type": "code",
      "execution_count": null,
      "metadata": {
        "id": "KKWM-Yt-spTH"
      },
      "outputs": [],
      "source": [
        "# Mapping the correct datatype of the features \"Email_Type\", \"Email_Source_Type\", \"Email_Campaign_Type\" and \"Time_Email_sent_Category\".\n",
        "\n",
        "features_dtype_to_be_changed=[\"Email_Type\",\"Email_Source_Type\",\"Email_Campaign_Type\",\"Time_Email_sent_Category\"]\n",
        "\n",
        "for feature in features_dtype_to_be_changed:\n",
        "  data[feature]=data[feature].astype('object')"
      ]
    },
    {
      "cell_type": "markdown",
      "metadata": {
        "id": "sfq4wiAMt0nK"
      },
      "source": [
        "**Now all the independent features are ready for exploration. Let's explore them.**"
      ]
    },
    {
      "cell_type": "markdown",
      "metadata": {
        "id": "dvCl8wB5uDt_"
      },
      "source": [
        "**Let's Check Numerical Features**"
      ]
    },
    {
      "cell_type": "code",
      "execution_count": null,
      "metadata": {
        "colab": {
          "base_uri": "https://localhost:8080/"
        },
        "id": "whGN3IzKuIqZ",
        "outputId": "1119908a-5909-49cb-ca3f-c70820e76dce"
      },
      "outputs": [
        {
          "output_type": "stream",
          "name": "stdout",
          "text": [
            "['Subject_Hotness_Score', 'Total_Past_Communications', 'Word_Count', 'Total_Links', 'Total_Images', 'Email_Status']\n"
          ]
        }
      ],
      "source": [
        "# Collecting numerical features.\n",
        "total_numerical_features=list(data.describe().columns)\n",
        "print(total_numerical_features)"
      ]
    },
    {
      "cell_type": "markdown",
      "metadata": {
        "id": "tWMO3-WIva-I"
      },
      "source": [
        "**Inference** : The \"Email_Status\" feature is a response variable so we need to neglect it while exploring numerical predictor variables."
      ]
    },
    {
      "cell_type": "code",
      "execution_count": null,
      "metadata": {
        "colab": {
          "base_uri": "https://localhost:8080/"
        },
        "id": "8UJiM7uuwJo7",
        "outputId": "301ce391-375f-4f81-a312-06bd27acaec1"
      },
      "outputs": [
        {
          "output_type": "stream",
          "name": "stdout",
          "text": [
            "['Subject_Hotness_Score', 'Total_Past_Communications', 'Word_Count', 'Total_Links', 'Total_Images']\n",
            "====================================================================================================\n",
            "Total Numerical Features : 5\n"
          ]
        }
      ],
      "source": [
        "# Collecting predictor numerical variables.\n",
        "numerical_features=[feature for feature in total_numerical_features if feature != \"Email_Status\"]\n",
        "print(numerical_features)\n",
        "print('='*100)\n",
        "print('Total Numerical Features :',len(numerical_features))"
      ]
    },
    {
      "cell_type": "code",
      "execution_count": null,
      "metadata": {
        "colab": {
          "base_uri": "https://localhost:8080/",
          "height": 206
        },
        "id": "DrkBQdhGIjFp",
        "outputId": "476bd48a-e15f-4383-d39d-a893ee2ec5ab"
      },
      "outputs": [
        {
          "output_type": "execute_result",
          "data": {
            "text/plain": [
              "                             count        mean         std   min    25%  \\\n",
              "Subject_Hotness_Score      68353.0    1.095481    0.997578   0.0    0.2   \n",
              "Total_Past_Communications  61528.0   28.933250   12.536518   0.0   20.0   \n",
              "Word_Count                 68353.0  699.931751  271.719440  40.0  521.0   \n",
              "Total_Links                66152.0   10.429526    6.383270   1.0    6.0   \n",
              "Total_Images               66676.0    3.550678    5.596983   0.0    0.0   \n",
              "\n",
              "                             50%    75%     max  \n",
              "Subject_Hotness_Score        0.8    1.8     5.0  \n",
              "Total_Past_Communications   28.0   38.0    67.0  \n",
              "Word_Count                 694.0  880.0  1316.0  \n",
              "Total_Links                  9.0   14.0    49.0  \n",
              "Total_Images                 0.0    5.0    45.0  "
            ],
            "text/html": [
              "\n",
              "  <div id=\"df-1467307c-2f41-4960-98d1-cf20fc39296c\">\n",
              "    <div class=\"colab-df-container\">\n",
              "      <div>\n",
              "<style scoped>\n",
              "    .dataframe tbody tr th:only-of-type {\n",
              "        vertical-align: middle;\n",
              "    }\n",
              "\n",
              "    .dataframe tbody tr th {\n",
              "        vertical-align: top;\n",
              "    }\n",
              "\n",
              "    .dataframe thead th {\n",
              "        text-align: right;\n",
              "    }\n",
              "</style>\n",
              "<table border=\"1\" class=\"dataframe\">\n",
              "  <thead>\n",
              "    <tr style=\"text-align: right;\">\n",
              "      <th></th>\n",
              "      <th>count</th>\n",
              "      <th>mean</th>\n",
              "      <th>std</th>\n",
              "      <th>min</th>\n",
              "      <th>25%</th>\n",
              "      <th>50%</th>\n",
              "      <th>75%</th>\n",
              "      <th>max</th>\n",
              "    </tr>\n",
              "  </thead>\n",
              "  <tbody>\n",
              "    <tr>\n",
              "      <th>Subject_Hotness_Score</th>\n",
              "      <td>68353.0</td>\n",
              "      <td>1.095481</td>\n",
              "      <td>0.997578</td>\n",
              "      <td>0.0</td>\n",
              "      <td>0.2</td>\n",
              "      <td>0.8</td>\n",
              "      <td>1.8</td>\n",
              "      <td>5.0</td>\n",
              "    </tr>\n",
              "    <tr>\n",
              "      <th>Total_Past_Communications</th>\n",
              "      <td>61528.0</td>\n",
              "      <td>28.933250</td>\n",
              "      <td>12.536518</td>\n",
              "      <td>0.0</td>\n",
              "      <td>20.0</td>\n",
              "      <td>28.0</td>\n",
              "      <td>38.0</td>\n",
              "      <td>67.0</td>\n",
              "    </tr>\n",
              "    <tr>\n",
              "      <th>Word_Count</th>\n",
              "      <td>68353.0</td>\n",
              "      <td>699.931751</td>\n",
              "      <td>271.719440</td>\n",
              "      <td>40.0</td>\n",
              "      <td>521.0</td>\n",
              "      <td>694.0</td>\n",
              "      <td>880.0</td>\n",
              "      <td>1316.0</td>\n",
              "    </tr>\n",
              "    <tr>\n",
              "      <th>Total_Links</th>\n",
              "      <td>66152.0</td>\n",
              "      <td>10.429526</td>\n",
              "      <td>6.383270</td>\n",
              "      <td>1.0</td>\n",
              "      <td>6.0</td>\n",
              "      <td>9.0</td>\n",
              "      <td>14.0</td>\n",
              "      <td>49.0</td>\n",
              "    </tr>\n",
              "    <tr>\n",
              "      <th>Total_Images</th>\n",
              "      <td>66676.0</td>\n",
              "      <td>3.550678</td>\n",
              "      <td>5.596983</td>\n",
              "      <td>0.0</td>\n",
              "      <td>0.0</td>\n",
              "      <td>0.0</td>\n",
              "      <td>5.0</td>\n",
              "      <td>45.0</td>\n",
              "    </tr>\n",
              "  </tbody>\n",
              "</table>\n",
              "</div>\n",
              "      <button class=\"colab-df-convert\" onclick=\"convertToInteractive('df-1467307c-2f41-4960-98d1-cf20fc39296c')\"\n",
              "              title=\"Convert this dataframe to an interactive table.\"\n",
              "              style=\"display:none;\">\n",
              "        \n",
              "  <svg xmlns=\"http://www.w3.org/2000/svg\" height=\"24px\"viewBox=\"0 0 24 24\"\n",
              "       width=\"24px\">\n",
              "    <path d=\"M0 0h24v24H0V0z\" fill=\"none\"/>\n",
              "    <path d=\"M18.56 5.44l.94 2.06.94-2.06 2.06-.94-2.06-.94-.94-2.06-.94 2.06-2.06.94zm-11 1L8.5 8.5l.94-2.06 2.06-.94-2.06-.94L8.5 2.5l-.94 2.06-2.06.94zm10 10l.94 2.06.94-2.06 2.06-.94-2.06-.94-.94-2.06-.94 2.06-2.06.94z\"/><path d=\"M17.41 7.96l-1.37-1.37c-.4-.4-.92-.59-1.43-.59-.52 0-1.04.2-1.43.59L10.3 9.45l-7.72 7.72c-.78.78-.78 2.05 0 2.83L4 21.41c.39.39.9.59 1.41.59.51 0 1.02-.2 1.41-.59l7.78-7.78 2.81-2.81c.8-.78.8-2.07 0-2.86zM5.41 20L4 18.59l7.72-7.72 1.47 1.35L5.41 20z\"/>\n",
              "  </svg>\n",
              "      </button>\n",
              "      \n",
              "  <style>\n",
              "    .colab-df-container {\n",
              "      display:flex;\n",
              "      flex-wrap:wrap;\n",
              "      gap: 12px;\n",
              "    }\n",
              "\n",
              "    .colab-df-convert {\n",
              "      background-color: #E8F0FE;\n",
              "      border: none;\n",
              "      border-radius: 50%;\n",
              "      cursor: pointer;\n",
              "      display: none;\n",
              "      fill: #1967D2;\n",
              "      height: 32px;\n",
              "      padding: 0 0 0 0;\n",
              "      width: 32px;\n",
              "    }\n",
              "\n",
              "    .colab-df-convert:hover {\n",
              "      background-color: #E2EBFA;\n",
              "      box-shadow: 0px 1px 2px rgba(60, 64, 67, 0.3), 0px 1px 3px 1px rgba(60, 64, 67, 0.15);\n",
              "      fill: #174EA6;\n",
              "    }\n",
              "\n",
              "    [theme=dark] .colab-df-convert {\n",
              "      background-color: #3B4455;\n",
              "      fill: #D2E3FC;\n",
              "    }\n",
              "\n",
              "    [theme=dark] .colab-df-convert:hover {\n",
              "      background-color: #434B5C;\n",
              "      box-shadow: 0px 1px 3px 1px rgba(0, 0, 0, 0.15);\n",
              "      filter: drop-shadow(0px 1px 2px rgba(0, 0, 0, 0.3));\n",
              "      fill: #FFFFFF;\n",
              "    }\n",
              "  </style>\n",
              "\n",
              "      <script>\n",
              "        const buttonEl =\n",
              "          document.querySelector('#df-1467307c-2f41-4960-98d1-cf20fc39296c button.colab-df-convert');\n",
              "        buttonEl.style.display =\n",
              "          google.colab.kernel.accessAllowed ? 'block' : 'none';\n",
              "\n",
              "        async function convertToInteractive(key) {\n",
              "          const element = document.querySelector('#df-1467307c-2f41-4960-98d1-cf20fc39296c');\n",
              "          const dataTable =\n",
              "            await google.colab.kernel.invokeFunction('convertToInteractive',\n",
              "                                                     [key], {});\n",
              "          if (!dataTable) return;\n",
              "\n",
              "          const docLinkHtml = 'Like what you see? Visit the ' +\n",
              "            '<a target=\"_blank\" href=https://colab.research.google.com/notebooks/data_table.ipynb>data table notebook</a>'\n",
              "            + ' to learn more about interactive tables.';\n",
              "          element.innerHTML = '';\n",
              "          dataTable['output_type'] = 'display_data';\n",
              "          await google.colab.output.renderOutput(dataTable, element);\n",
              "          const docLink = document.createElement('div');\n",
              "          docLink.innerHTML = docLinkHtml;\n",
              "          element.appendChild(docLink);\n",
              "        }\n",
              "      </script>\n",
              "    </div>\n",
              "  </div>\n",
              "  "
            ]
          },
          "metadata": {},
          "execution_count": 15
        }
      ],
      "source": [
        "# Checking descriptive information.\n",
        "data[numerical_features].describe().transpose()"
      ]
    },
    {
      "cell_type": "markdown",
      "metadata": {
        "id": "b3eKx3tAxqk2"
      },
      "source": [
        "**Inference** : For the features \"Total_Past_Communications\" and \"Word_Count\" min and max lies under the range of \"mean + 3* std. deviation\" and for the rest max value fall out of this range."
      ]
    },
    {
      "cell_type": "markdown",
      "metadata": {
        "id": "sVI5UJFnzEMy"
      },
      "source": [
        "**Visualizing Numerical Features**"
      ]
    },
    {
      "cell_type": "code",
      "execution_count": null,
      "metadata": {
        "colab": {
          "base_uri": "https://localhost:8080/",
          "height": 499
        },
        "id": "85lwaOvzzCbR",
        "outputId": "d4e01bb5-6926-4f4e-a6ce-5422ad5bfd5f"
      },
      "outputs": [
        {
          "output_type": "display_data",
          "data": {
            "text/plain": [
              "<Figure size 1152x576 with 5 Axes>"
            ],
            "image/png": "[encoded data removed]"
          },
          "metadata": {
            "needs_background": "light"
          }
        }
      ],
      "source": [
        "# Using Histogram for the features.\n",
        "n=1\n",
        "plt.figure(figsize=(16,8))\n",
        "for col in numerical_features:\n",
        "  feature=data[col]\n",
        "  # Using Subplots.\n",
        "  plt.subplot(2,3,n)\n",
        "  plt.hist(feature)\n",
        "  # Marking mean and median line in the plot.\n",
        "  plt.axvline(feature.mean(), color='magenta', linestyle='dashed', linewidth=2)\n",
        "  plt.axvline(feature.median(), color='cyan', linestyle='dashed', linewidth=2)\n",
        "  # Setting title.    \n",
        "  plt.title(col)\n",
        "  n+=1\n",
        "plt.show()"
      ]
    },
    {
      "cell_type": "markdown",
      "metadata": {
        "id": "y8JU-ccFimCj"
      },
      "source": [
        "**Inference** : \n",
        "\n",
        "*   The mean and median for all the features except 'Word_Count' differs so surely these features contains outliers.\n",
        "*   The features 'Total_Past_Communications' and 'Word_Count' are distributed with good variance.\n",
        "\n"
      ]
    },
    {
      "cell_type": "code",
      "execution_count": null,
      "metadata": {
        "colab": {
          "base_uri": "https://localhost:8080/",
          "height": 498
        },
        "id": "AxKeHb1i6knH",
        "outputId": "d4ca7d70-9b71-4b9e-8c5a-c52ec9cb2266"
      },
      "outputs": [
        {
          "output_type": "display_data",
          "data": {
            "text/plain": [
              "<Figure size 1296x576 with 4 Axes>"
            ],
            "image/png": "[encoded data removed]"
          },
          "metadata": {
            "needs_background": "light"
          }
        }
      ],
      "source": [
        "# Using Distribution plots\n",
        "n=1\n",
        "plt.figure(figsize=(18,8))\n",
        "for col in numerical_features:\n",
        "  feature = data[col]\n",
        "  # Using subplots.\n",
        "  plt.subplot(2,3,n)\n",
        "  sns.distplot(feature, color = 'green')\n",
        "  n+=1\n",
        "plt.show()"
      ]
    },
    {
      "cell_type": "markdown",
      "metadata": {
        "id": "r51pnJsEHthL"
      },
      "source": [
        "**Inference** : The features 'Subject_Hotness_Score','Total_Links' and  'Total_Images' are postively skewed."
      ]
    },
    {
      "cell_type": "markdown",
      "metadata": {
        "id": "pPyDZdJOH6g-"
      },
      "source": [
        "**Let's try to remove skewness from skewed features.**"
      ]
    },
    {
      "cell_type": "code",
      "execution_count": null,
      "metadata": {
        "id": "rIv36j_0C_nr"
      },
      "outputs": [],
      "source": [
        "# Collecting Skewed features.\n",
        "skewed_features=['Subject_Hotness_Score','Total_Links','Total_Images']"
      ]
    },
    {
      "cell_type": "code",
      "execution_count": null,
      "metadata": {
        "colab": {
          "base_uri": "https://localhost:8080/",
          "height": 280
        },
        "id": "AayRlPpFDXDu",
        "outputId": "8a6ed4bd-7274-4044-fbc3-43c40d5ea9a4"
      },
      "outputs": [
        {
          "output_type": "display_data",
          "data": {
            "text/plain": [
              "<Figure size 1008x288 with 3 Axes>"
            ],
            "image/png": "[encoded data removed]"
          },
          "metadata": {
            "needs_background": "light"
          }
        }
      ],
      "source": [
        "# Taking Log Transformation.\n",
        "n=1\n",
        "plt.figure(figsize=(14,4))\n",
        "for col in skewed_features:\n",
        "  feature = np.log10(data[col]+0.01)\n",
        "  # Using subplots.\n",
        "  plt.subplot(1,3,n)\n",
        "  sns.distplot(feature, color = 'violet')\n",
        "  n+=1\n",
        "plt.show()"
      ]
    },
    {
      "cell_type": "code",
      "execution_count": null,
      "metadata": {
        "colab": {
          "base_uri": "https://localhost:8080/",
          "height": 280
        },
        "id": "LNXcZFAuFx2u",
        "outputId": "1bed373c-15bc-49ae-81d2-cdc8392eafbb"
      },
      "outputs": [
        {
          "output_type": "display_data",
          "data": {
            "text/plain": [
              "<Figure size 1008x288 with 3 Axes>"
            ],
            "image/png": "[encoded data removed]"
          },
          "metadata": {
            "needs_background": "light"
          }
        }
      ],
      "source": [
        "# Taking Square Root Transformation.\n",
        "n=1\n",
        "plt.figure(figsize=(14,4))\n",
        "for col in skewed_features:\n",
        "  feature = np.sqrt(data[col])\n",
        "  # Using subplots.\n",
        "  plt.subplot(1,3,n)\n",
        "  sns.distplot(feature)\n",
        "  n+=1\n",
        "plt.show()"
      ]
    },
    {
      "cell_type": "code",
      "execution_count": null,
      "metadata": {
        "colab": {
          "base_uri": "https://localhost:8080/",
          "height": 280
        },
        "id": "j6lHsiy5Gpht",
        "outputId": "c79240de-9d7e-4ab4-8bb0-0ddc54d5164a"
      },
      "outputs": [
        {
          "output_type": "display_data",
          "data": {
            "text/plain": [
              "<Figure size 1008x288 with 3 Axes>"
            ],
            "image/png": "[encoded data removed]"
          },
          "metadata": {
            "needs_background": "light"
          }
        }
      ],
      "source": [
        "# Taking Cube Root Transformation.\n",
        "n=1\n",
        "plt.figure(figsize=(14,4))\n",
        "for col in skewed_features:\n",
        "  feature = np.cbrt(data[col])\n",
        "  # Using subplots.\n",
        "  plt.subplot(1,3,n)\n",
        "  sns.distplot(feature)\n",
        "  n+=1\n",
        "plt.show()"
      ]
    },
    {
      "cell_type": "code",
      "execution_count": null,
      "metadata": {
        "colab": {
          "base_uri": "https://localhost:8080/",
          "height": 281
        },
        "id": "oOyRJ34w_89Z",
        "outputId": "bf137203-61e0-4120-baea-7b7ab67268dd"
      },
      "outputs": [
        {
          "output_type": "display_data",
          "data": {
            "text/plain": [
              "<Figure size 1008x288 with 3 Axes>"
            ],
            "image/png": "[encoded data removed]"
          },
          "metadata": {
            "needs_background": "light"
          }
        }
      ],
      "source": [
        "# Using Power Transformation.\n",
        "n=1\n",
        "plt.figure(figsize=(14,4))\n",
        "for col in skewed_features:\n",
        "  pt = PowerTransformer(method='yeo-johnson',standardize=True)\n",
        "  # Reshaping the feature to 2d array so that transformation can happen easily.\n",
        "  feature = pt.fit_transform(np.array(data[col]).reshape(-1,1))\n",
        "  # Using subplots.\n",
        "  plt.subplot(1,3,n)\n",
        "  sns.distplot(feature).set_title(col)\n",
        "  n+=1\n",
        "plt.show()"
      ]
    },
    {
      "cell_type": "markdown",
      "metadata": {
        "id": "zSWjGA-EG7UP"
      },
      "source": [
        "**Inference** : The Log, Square Root and Cube Root transformations used are able to remove the skewness , but Power transformation removed skewness outstandigly and also it standardize the data as well. Hence, we will use power transformation for the all numerical features which are skewed and non-skewed as it removes the skewness and standardize the features as well."
      ]
    },
    {
      "cell_type": "markdown",
      "metadata": {
        "id": "3x5J2vLRV4AV"
      },
      "source": [
        "**Let's Check for Outliers.**"
      ]
    },
    {
      "cell_type": "code",
      "execution_count": null,
      "metadata": {
        "colab": {
          "base_uri": "https://localhost:8080/",
          "height": 498
        },
        "id": "tjjPGIXVBrHs",
        "outputId": "4292ba3e-b01e-4ebf-d5b8-9181c14f5d02"
      },
      "outputs": [
        {
          "output_type": "display_data",
          "data": {
            "text/plain": [
              "<Figure size 1152x576 with 5 Axes>"
            ],
            "image/png": "[encoded data removed]"
          },
          "metadata": {
            "needs_background": "light"
          }
        }
      ],
      "source": [
        "# Checking for Outliers using Box Plots.\n",
        "# Plotting Boxplot of each feature against response variable.\n",
        "n=1\n",
        "## Setting figuresize.\n",
        "plt.figure(figsize=(16,8))\n",
        "for col in numerical_features:\n",
        "  feature = data[col]\n",
        "  # Using subplots.\n",
        "  plt.subplot(2,3,n)\n",
        "  sns.boxplot(y=data['Email_Status'].astype('category'),x=feature,palette=\"crest\")\n",
        "  n+=1\n",
        "plt.show()"
      ]
    },
    {
      "cell_type": "markdown",
      "metadata": {
        "id": "72sttneyxBC9"
      },
      "source": [
        "**Inference** : All the numerical features except 'Word_Count' contains outliers. So we need to take care of these outliers."
      ]
    },
    {
      "cell_type": "markdown",
      "metadata": {
        "id": "jp5AvZhar7Dx"
      },
      "source": [
        "**Let's Check Correlation among Numerical Features.**"
      ]
    },
    {
      "cell_type": "code",
      "execution_count": null,
      "metadata": {
        "colab": {
          "base_uri": "https://localhost:8080/",
          "height": 397
        },
        "id": "WeuDzEby9o2X",
        "outputId": "82b58cbb-1cec-45cd-ea5b-f741a73ff3ba"
      },
      "outputs": [
        {
          "output_type": "display_data",
          "data": {
            "text/plain": [
              "<Figure size 576x288 with 2 Axes>"
            ],
            "image/png": "[encoded data removed]"
          },
          "metadata": {
            "needs_background": "light"
          }
        }
      ],
      "source": [
        "# Using heatmap for visualization.\n",
        "## Setting figursize.\n",
        "plt.figure(figsize=(8,4))\n",
        "## Calculating correlation among numerical features.\n",
        "correlation = data[numerical_features].corr()\n",
        "sns.heatmap(abs(correlation), annot=True, cmap='BuPu')\n",
        "plt.show()"
      ]
    },
    {
      "cell_type": "markdown",
      "metadata": {
        "id": "e8CEoaWGvLZa"
      },
      "source": [
        "**Inference** : The features \"Total_Images\" and \"Total_Links\" are highly correlated with correlation value as 0.78."
      ]
    },
    {
      "cell_type": "code",
      "execution_count": null,
      "metadata": {
        "id": "i9Samj1-vzYv"
      },
      "outputs": [],
      "source": [
        "# Multicollinearity\n",
        "# Let's check VIF values.\n",
        "from statsmodels.stats.outliers_influence import variance_inflation_factor\n",
        "def calc_vif(X):\n",
        "  # removing missing values before calculating VIF values to not get error.\n",
        "  X=X.dropna()\n",
        "  # Calculating VIF\n",
        "  vif = pd.DataFrame()\n",
        "  vif[\"Variables\"] = X.columns\n",
        "  vif[\"VIF\"] = [variance_inflation_factor(X.values, i) for i in range(X.shape[1])]\n",
        "\n",
        "  return(vif)"
      ]
    },
    {
      "cell_type": "code",
      "execution_count": null,
      "metadata": {
        "colab": {
          "base_uri": "https://localhost:8080/",
          "height": 206
        },
        "id": "kY4H37oDwAZW",
        "outputId": "e5d2f3c7-0058-4b5a-ddd4-e00e9d30ace7"
      },
      "outputs": [
        {
          "output_type": "execute_result",
          "data": {
            "text/plain": [
              "                   Variables       VIF\n",
              "0      Subject_Hotness_Score  1.812747\n",
              "1  Total_Past_Communications  3.764936\n",
              "2                 Word_Count  3.992614\n",
              "3                Total_Links  9.525929\n",
              "4               Total_Images  3.574892"
            ],
            "text/html": [
              "\n",
              "  <div id=\"df-bbff9db8-d4bf-4bc3-90e4-afca900c73c1\">\n",
              "    <div class=\"colab-df-container\">\n",
              "      <div>\n",
              "<style scoped>\n",
              "    .dataframe tbody tr th:only-of-type {\n",
              "        vertical-align: middle;\n",
              "    }\n",
              "\n",
              "    .dataframe tbody tr th {\n",
              "        vertical-align: top;\n",
              "    }\n",
              "\n",
              "    .dataframe thead th {\n",
              "        text-align: right;\n",
              "    }\n",
              "</style>\n",
              "<table border=\"1\" class=\"dataframe\">\n",
              "  <thead>\n",
              "    <tr style=\"text-align: right;\">\n",
              "      <th></th>\n",
              "      <th>Variables</th>\n",
              "      <th>VIF</th>\n",
              "    </tr>\n",
              "  </thead>\n",
              "  <tbody>\n",
              "    <tr>\n",
              "      <th>0</th>\n",
              "      <td>Subject_Hotness_Score</td>\n",
              "      <td>1.812747</td>\n",
              "    </tr>\n",
              "    <tr>\n",
              "      <th>1</th>\n",
              "      <td>Total_Past_Communications</td>\n",
              "      <td>3.764936</td>\n",
              "    </tr>\n",
              "    <tr>\n",
              "      <th>2</th>\n",
              "      <td>Word_Count</td>\n",
              "      <td>3.992614</td>\n",
              "    </tr>\n",
              "    <tr>\n",
              "      <th>3</th>\n",
              "      <td>Total_Links</td>\n",
              "      <td>9.525929</td>\n",
              "    </tr>\n",
              "    <tr>\n",
              "      <th>4</th>\n",
              "      <td>Total_Images</td>\n",
              "      <td>3.574892</td>\n",
              "    </tr>\n",
              "  </tbody>\n",
              "</table>\n",
              "</div>\n",
              "      <button class=\"colab-df-convert\" onclick=\"convertToInteractive('df-bbff9db8-d4bf-4bc3-90e4-afca900c73c1')\"\n",
              "              title=\"Convert this dataframe to an interactive table.\"\n",
              "              style=\"display:none;\">\n",
              "        \n",
              "  <svg xmlns=\"http://www.w3.org/2000/svg\" height=\"24px\"viewBox=\"0 0 24 24\"\n",
              "       width=\"24px\">\n",
              "    <path d=\"M0 0h24v24H0V0z\" fill=\"none\"/>\n",
              "    <path d=\"M18.56 5.44l.94 2.06.94-2.06 2.06-.94-2.06-.94-.94-2.06-.94 2.06-2.06.94zm-11 1L8.5 8.5l.94-2.06 2.06-.94-2.06-.94L8.5 2.5l-.94 2.06-2.06.94zm10 10l.94 2.06.94-2.06 2.06-.94-2.06-.94-.94-2.06-.94 2.06-2.06.94z\"/><path d=\"M17.41 7.96l-1.37-1.37c-.4-.4-.92-.59-1.43-.59-.52 0-1.04.2-1.43.59L10.3 9.45l-7.72 7.72c-.78.78-.78 2.05 0 2.83L4 21.41c.39.39.9.59 1.41.59.51 0 1.02-.2 1.41-.59l7.78-7.78 2.81-2.81c.8-.78.8-2.07 0-2.86zM5.41 20L4 18.59l7.72-7.72 1.47 1.35L5.41 20z\"/>\n",
              "  </svg>\n",
              "      </button>\n",
              "      \n",
              "  <style>\n",
              "    .colab-df-container {\n",
              "      display:flex;\n",
              "      flex-wrap:wrap;\n",
              "      gap: 12px;\n",
              "    }\n",
              "\n",
              "    .colab-df-convert {\n",
              "      background-color: #E8F0FE;\n",
              "      border: none;\n",
              "      border-radius: 50%;\n",
              "      cursor: pointer;\n",
              "      display: none;\n",
              "      fill: #1967D2;\n",
              "      height: 32px;\n",
              "      padding: 0 0 0 0;\n",
              "      width: 32px;\n",
              "    }\n",
              "\n",
              "    .colab-df-convert:hover {\n",
              "      background-color: #E2EBFA;\n",
              "      box-shadow: 0px 1px 2px rgba(60, 64, 67, 0.3), 0px 1px 3px 1px rgba(60, 64, 67, 0.15);\n",
              "      fill: #174EA6;\n",
              "    }\n",
              "\n",
              "    [theme=dark] .colab-df-convert {\n",
              "      background-color: #3B4455;\n",
              "      fill: #D2E3FC;\n",
              "    }\n",
              "\n",
              "    [theme=dark] .colab-df-convert:hover {\n",
              "      background-color: #434B5C;\n",
              "      box-shadow: 0px 1px 3px 1px rgba(0, 0, 0, 0.15);\n",
              "      filter: drop-shadow(0px 1px 2px rgba(0, 0, 0, 0.3));\n",
              "      fill: #FFFFFF;\n",
              "    }\n",
              "  </style>\n",
              "\n",
              "      <script>\n",
              "        const buttonEl =\n",
              "          document.querySelector('#df-bbff9db8-d4bf-4bc3-90e4-afca900c73c1 button.colab-df-convert');\n",
              "        buttonEl.style.display =\n",
              "          google.colab.kernel.accessAllowed ? 'block' : 'none';\n",
              "\n",
              "        async function convertToInteractive(key) {\n",
              "          const element = document.querySelector('#df-bbff9db8-d4bf-4bc3-90e4-afca900c73c1');\n",
              "          const dataTable =\n",
              "            await google.colab.kernel.invokeFunction('convertToInteractive',\n",
              "                                                     [key], {});\n",
              "          if (!dataTable) return;\n",
              "\n",
              "          const docLinkHtml = 'Like what you see? Visit the ' +\n",
              "            '<a target=\"_blank\" href=https://colab.research.google.com/notebooks/data_table.ipynb>data table notebook</a>'\n",
              "            + ' to learn more about interactive tables.';\n",
              "          element.innerHTML = '';\n",
              "          dataTable['output_type'] = 'display_data';\n",
              "          await google.colab.output.renderOutput(dataTable, element);\n",
              "          const docLink = document.createElement('div');\n",
              "          docLink.innerHTML = docLinkHtml;\n",
              "          element.appendChild(docLink);\n",
              "        }\n",
              "      </script>\n",
              "    </div>\n",
              "  </div>\n",
              "  "
            ]
          },
          "metadata": {},
          "execution_count": 26
        }
      ],
      "source": [
        "# VIF values for numerical features.\n",
        "calc_vif(data[numerical_features])"
      ]
    },
    {
      "cell_type": "markdown",
      "metadata": {
        "id": "b0WkMshryE8C"
      },
      "source": [
        "**Inference** : The \"Total_Links\" feature have high VIF value."
      ]
    },
    {
      "cell_type": "markdown",
      "metadata": {
        "id": "GNTz-dJoyfua"
      },
      "source": [
        "Let's calculate VIF values without \"Total_Links\" feature."
      ]
    },
    {
      "cell_type": "code",
      "execution_count": null,
      "metadata": {
        "colab": {
          "base_uri": "https://localhost:8080/",
          "height": 175
        },
        "id": "hiGND5mgx88p",
        "outputId": "5b189b53-b206-42ef-f175-179351053530"
      },
      "outputs": [
        {
          "output_type": "execute_result",
          "data": {
            "text/plain": [
              "                   Variables       VIF\n",
              "0      Subject_Hotness_Score  1.694566\n",
              "1  Total_Past_Communications  2.958079\n",
              "2                 Word_Count  3.347659\n",
              "3               Total_Images  1.421444"
            ],
            "text/html": [
              "\n",
              "  <div id=\"df-67d5c646-c022-49fa-a3df-f084cf89a02c\">\n",
              "    <div class=\"colab-df-container\">\n",
              "      <div>\n",
              "<style scoped>\n",
              "    .dataframe tbody tr th:only-of-type {\n",
              "        vertical-align: middle;\n",
              "    }\n",
              "\n",
              "    .dataframe tbody tr th {\n",
              "        vertical-align: top;\n",
              "    }\n",
              "\n",
              "    .dataframe thead th {\n",
              "        text-align: right;\n",
              "    }\n",
              "</style>\n",
              "<table border=\"1\" class=\"dataframe\">\n",
              "  <thead>\n",
              "    <tr style=\"text-align: right;\">\n",
              "      <th></th>\n",
              "      <th>Variables</th>\n",
              "      <th>VIF</th>\n",
              "    </tr>\n",
              "  </thead>\n",
              "  <tbody>\n",
              "    <tr>\n",
              "      <th>0</th>\n",
              "      <td>Subject_Hotness_Score</td>\n",
              "      <td>1.694566</td>\n",
              "    </tr>\n",
              "    <tr>\n",
              "      <th>1</th>\n",
              "      <td>Total_Past_Communications</td>\n",
              "      <td>2.958079</td>\n",
              "    </tr>\n",
              "    <tr>\n",
              "      <th>2</th>\n",
              "      <td>Word_Count</td>\n",
              "      <td>3.347659</td>\n",
              "    </tr>\n",
              "    <tr>\n",
              "      <th>3</th>\n",
              "      <td>Total_Images</td>\n",
              "      <td>1.421444</td>\n",
              "    </tr>\n",
              "  </tbody>\n",
              "</table>\n",
              "</div>\n",
              "      <button class=\"colab-df-convert\" onclick=\"convertToInteractive('df-67d5c646-c022-49fa-a3df-f084cf89a02c')\"\n",
              "              title=\"Convert this dataframe to an interactive table.\"\n",
              "              style=\"display:none;\">\n",
              "        \n",
              "  <svg xmlns=\"http://www.w3.org/2000/svg\" height=\"24px\"viewBox=\"0 0 24 24\"\n",
              "       width=\"24px\">\n",
              "    <path d=\"M0 0h24v24H0V0z\" fill=\"none\"/>\n",
              "    <path d=\"M18.56 5.44l.94 2.06.94-2.06 2.06-.94-2.06-.94-.94-2.06-.94 2.06-2.06.94zm-11 1L8.5 8.5l.94-2.06 2.06-.94-2.06-.94L8.5 2.5l-.94 2.06-2.06.94zm10 10l.94 2.06.94-2.06 2.06-.94-2.06-.94-.94-2.06-.94 2.06-2.06.94z\"/><path d=\"M17.41 7.96l-1.37-1.37c-.4-.4-.92-.59-1.43-.59-.52 0-1.04.2-1.43.59L10.3 9.45l-7.72 7.72c-.78.78-.78 2.05 0 2.83L4 21.41c.39.39.9.59 1.41.59.51 0 1.02-.2 1.41-.59l7.78-7.78 2.81-2.81c.8-.78.8-2.07 0-2.86zM5.41 20L4 18.59l7.72-7.72 1.47 1.35L5.41 20z\"/>\n",
              "  </svg>\n",
              "      </button>\n",
              "      \n",
              "  <style>\n",
              "    .colab-df-container {\n",
              "      display:flex;\n",
              "      flex-wrap:wrap;\n",
              "      gap: 12px;\n",
              "    }\n",
              "\n",
              "    .colab-df-convert {\n",
              "      background-color: #E8F0FE;\n",
              "      border: none;\n",
              "      border-radius: 50%;\n",
              "      cursor: pointer;\n",
              "      display: none;\n",
              "      fill: #1967D2;\n",
              "      height: 32px;\n",
              "      padding: 0 0 0 0;\n",
              "      width: 32px;\n",
              "    }\n",
              "\n",
              "    .colab-df-convert:hover {\n",
              "      background-color: #E2EBFA;\n",
              "      box-shadow: 0px 1px 2px rgba(60, 64, 67, 0.3), 0px 1px 3px 1px rgba(60, 64, 67, 0.15);\n",
              "      fill: #174EA6;\n",
              "    }\n",
              "\n",
              "    [theme=dark] .colab-df-convert {\n",
              "      background-color: #3B4455;\n",
              "      fill: #D2E3FC;\n",
              "    }\n",
              "\n",
              "    [theme=dark] .colab-df-convert:hover {\n",
              "      background-color: #434B5C;\n",
              "      box-shadow: 0px 1px 3px 1px rgba(0, 0, 0, 0.15);\n",
              "      filter: drop-shadow(0px 1px 2px rgba(0, 0, 0, 0.3));\n",
              "      fill: #FFFFFF;\n",
              "    }\n",
              "  </style>\n",
              "\n",
              "      <script>\n",
              "        const buttonEl =\n",
              "          document.querySelector('#df-67d5c646-c022-49fa-a3df-f084cf89a02c button.colab-df-convert');\n",
              "        buttonEl.style.display =\n",
              "          google.colab.kernel.accessAllowed ? 'block' : 'none';\n",
              "\n",
              "        async function convertToInteractive(key) {\n",
              "          const element = document.querySelector('#df-67d5c646-c022-49fa-a3df-f084cf89a02c');\n",
              "          const dataTable =\n",
              "            await google.colab.kernel.invokeFunction('convertToInteractive',\n",
              "                                                     [key], {});\n",
              "          if (!dataTable) return;\n",
              "\n",
              "          const docLinkHtml = 'Like what you see? Visit the ' +\n",
              "            '<a target=\"_blank\" href=https://colab.research.google.com/notebooks/data_table.ipynb>data table notebook</a>'\n",
              "            + ' to learn more about interactive tables.';\n",
              "          element.innerHTML = '';\n",
              "          dataTable['output_type'] = 'display_data';\n",
              "          await google.colab.output.renderOutput(dataTable, element);\n",
              "          const docLink = document.createElement('div');\n",
              "          docLink.innerHTML = docLinkHtml;\n",
              "          element.appendChild(docLink);\n",
              "        }\n",
              "      </script>\n",
              "    </div>\n",
              "  </div>\n",
              "  "
            ]
          },
          "metadata": {},
          "execution_count": 27
        }
      ],
      "source": [
        "# VIF values after removing \"Total_Links\" feature.\n",
        "calc_vif(data[['Subject_Hotness_Score', 'Total_Past_Communications', 'Word_Count', 'Total_Images']])"
      ]
    },
    {
      "cell_type": "markdown",
      "metadata": {
        "id": "o-yvZKksyyed"
      },
      "source": [
        "**Inference** : The VIF values get reduced. So we should either drop \"Total_Links\" feature or use a combination of the features \"Total_Links\" and \"Total_Images\"."
      ]
    },
    {
      "cell_type": "markdown",
      "metadata": {
        "id": "auotvR7S0yl1"
      },
      "source": [
        "**Let's Check Categorical Features**"
      ]
    },
    {
      "cell_type": "code",
      "execution_count": null,
      "metadata": {
        "colab": {
          "base_uri": "https://localhost:8080/"
        },
        "id": "FOJhz7C9AU2E",
        "outputId": "ebe96e5b-e871-44de-cf2f-b5cfb8fc5ad4"
      },
      "outputs": [
        {
          "output_type": "stream",
          "name": "stdout",
          "text": [
            "['Email_ID', 'Email_Type', 'Email_Source_Type', 'Customer_Location', 'Email_Campaign_Type', 'Time_Email_sent_Category']\n"
          ]
        }
      ],
      "source": [
        "# Categorical features \n",
        "total_categorical_features = list(data.describe(include=['object']).columns)\n",
        "print(total_categorical_features)"
      ]
    },
    {
      "cell_type": "markdown",
      "metadata": {
        "id": "d1cI1mdQApD3"
      },
      "source": [
        "The 'Email_ID' feature contains identity information, so we can skip this feature for further process."
      ]
    },
    {
      "cell_type": "code",
      "execution_count": null,
      "metadata": {
        "colab": {
          "base_uri": "https://localhost:8080/"
        },
        "id": "RdOmKbVr2FaH",
        "outputId": "bbce99e0-6a58-4f70-92b7-13097552ad61"
      },
      "outputs": [
        {
          "output_type": "stream",
          "name": "stdout",
          "text": [
            "['Email_Type', 'Email_Source_Type', 'Customer_Location', 'Email_Campaign_Type', 'Time_Email_sent_Category']\n",
            "====================================================================================================\n",
            "Total Categorical Features : 5\n"
          ]
        }
      ],
      "source": [
        "# Categorical features to be used.\n",
        "categorical_features = total_categorical_features[1:]\n",
        "print(categorical_features)\n",
        "print('='*100)\n",
        "print(\"Total Categorical Features :\",len(categorical_features))"
      ]
    },
    {
      "cell_type": "code",
      "execution_count": null,
      "metadata": {
        "colab": {
          "base_uri": "https://localhost:8080/",
          "height": 206
        },
        "id": "kHH851hD6j8l",
        "outputId": "c9550fa8-bfd9-428d-8b45-cd5787e51326"
      },
      "outputs": [
        {
          "output_type": "execute_result",
          "data": {
            "text/plain": [
              "                          count unique top   freq\n",
              "Email_Type                68353      2   1  48866\n",
              "Email_Source_Type         68353      2   1  37149\n",
              "Customer_Location         56758      7   G  23173\n",
              "Email_Campaign_Type       68353      3   2  48273\n",
              "Time_Email_sent_Category  68353      3   2  41129"
            ],
            "text/html": [
              "\n",
              "  <div id=\"df-092fade9-dafc-47be-9fcf-665fe6297a3b\">\n",
              "    <div class=\"colab-df-container\">\n",
              "      <div>\n",
              "<style scoped>\n",
              "    .dataframe tbody tr th:only-of-type {\n",
              "        vertical-align: middle;\n",
              "    }\n",
              "\n",
              "    .dataframe tbody tr th {\n",
              "        vertical-align: top;\n",
              "    }\n",
              "\n",
              "    .dataframe thead th {\n",
              "        text-align: right;\n",
              "    }\n",
              "</style>\n",
              "<table border=\"1\" class=\"dataframe\">\n",
              "  <thead>\n",
              "    <tr style=\"text-align: right;\">\n",
              "      <th></th>\n",
              "      <th>count</th>\n",
              "      <th>unique</th>\n",
              "      <th>top</th>\n",
              "      <th>freq</th>\n",
              "    </tr>\n",
              "  </thead>\n",
              "  <tbody>\n",
              "    <tr>\n",
              "      <th>Email_Type</th>\n",
              "      <td>68353</td>\n",
              "      <td>2</td>\n",
              "      <td>1</td>\n",
              "      <td>48866</td>\n",
              "    </tr>\n",
              "    <tr>\n",
              "      <th>Email_Source_Type</th>\n",
              "      <td>68353</td>\n",
              "      <td>2</td>\n",
              "      <td>1</td>\n",
              "      <td>37149</td>\n",
              "    </tr>\n",
              "    <tr>\n",
              "      <th>Customer_Location</th>\n",
              "      <td>56758</td>\n",
              "      <td>7</td>\n",
              "      <td>G</td>\n",
              "      <td>23173</td>\n",
              "    </tr>\n",
              "    <tr>\n",
              "      <th>Email_Campaign_Type</th>\n",
              "      <td>68353</td>\n",
              "      <td>3</td>\n",
              "      <td>2</td>\n",
              "      <td>48273</td>\n",
              "    </tr>\n",
              "    <tr>\n",
              "      <th>Time_Email_sent_Category</th>\n",
              "      <td>68353</td>\n",
              "      <td>3</td>\n",
              "      <td>2</td>\n",
              "      <td>41129</td>\n",
              "    </tr>\n",
              "  </tbody>\n",
              "</table>\n",
              "</div>\n",
              "      <button class=\"colab-df-convert\" onclick=\"convertToInteractive('df-092fade9-dafc-47be-9fcf-665fe6297a3b')\"\n",
              "              title=\"Convert this dataframe to an interactive table.\"\n",
              "              style=\"display:none;\">\n",
              "        \n",
              "  <svg xmlns=\"http://www.w3.org/2000/svg\" height=\"24px\"viewBox=\"0 0 24 24\"\n",
              "       width=\"24px\">\n",
              "    <path d=\"M0 0h24v24H0V0z\" fill=\"none\"/>\n",
              "    <path d=\"M18.56 5.44l.94 2.06.94-2.06 2.06-.94-2.06-.94-.94-2.06-.94 2.06-2.06.94zm-11 1L8.5 8.5l.94-2.06 2.06-.94-2.06-.94L8.5 2.5l-.94 2.06-2.06.94zm10 10l.94 2.06.94-2.06 2.06-.94-2.06-.94-.94-2.06-.94 2.06-2.06.94z\"/><path d=\"M17.41 7.96l-1.37-1.37c-.4-.4-.92-.59-1.43-.59-.52 0-1.04.2-1.43.59L10.3 9.45l-7.72 7.72c-.78.78-.78 2.05 0 2.83L4 21.41c.39.39.9.59 1.41.59.51 0 1.02-.2 1.41-.59l7.78-7.78 2.81-2.81c.8-.78.8-2.07 0-2.86zM5.41 20L4 18.59l7.72-7.72 1.47 1.35L5.41 20z\"/>\n",
              "  </svg>\n",
              "      </button>\n",
              "      \n",
              "  <style>\n",
              "    .colab-df-container {\n",
              "      display:flex;\n",
              "      flex-wrap:wrap;\n",
              "      gap: 12px;\n",
              "    }\n",
              "\n",
              "    .colab-df-convert {\n",
              "      background-color: #E8F0FE;\n",
              "      border: none;\n",
              "      border-radius: 50%;\n",
              "      cursor: pointer;\n",
              "      display: none;\n",
              "      fill: #1967D2;\n",
              "      height: 32px;\n",
              "      padding: 0 0 0 0;\n",
              "      width: 32px;\n",
              "    }\n",
              "\n",
              "    .colab-df-convert:hover {\n",
              "      background-color: #E2EBFA;\n",
              "      box-shadow: 0px 1px 2px rgba(60, 64, 67, 0.3), 0px 1px 3px 1px rgba(60, 64, 67, 0.15);\n",
              "      fill: #174EA6;\n",
              "    }\n",
              "\n",
              "    [theme=dark] .colab-df-convert {\n",
              "      background-color: #3B4455;\n",
              "      fill: #D2E3FC;\n",
              "    }\n",
              "\n",
              "    [theme=dark] .colab-df-convert:hover {\n",
              "      background-color: #434B5C;\n",
              "      box-shadow: 0px 1px 3px 1px rgba(0, 0, 0, 0.15);\n",
              "      filter: drop-shadow(0px 1px 2px rgba(0, 0, 0, 0.3));\n",
              "      fill: #FFFFFF;\n",
              "    }\n",
              "  </style>\n",
              "\n",
              "      <script>\n",
              "        const buttonEl =\n",
              "          document.querySelector('#df-092fade9-dafc-47be-9fcf-665fe6297a3b button.colab-df-convert');\n",
              "        buttonEl.style.display =\n",
              "          google.colab.kernel.accessAllowed ? 'block' : 'none';\n",
              "\n",
              "        async function convertToInteractive(key) {\n",
              "          const element = document.querySelector('#df-092fade9-dafc-47be-9fcf-665fe6297a3b');\n",
              "          const dataTable =\n",
              "            await google.colab.kernel.invokeFunction('convertToInteractive',\n",
              "                                                     [key], {});\n",
              "          if (!dataTable) return;\n",
              "\n",
              "          const docLinkHtml = 'Like what you see? Visit the ' +\n",
              "            '<a target=\"_blank\" href=https://colab.research.google.com/notebooks/data_table.ipynb>data table notebook</a>'\n",
              "            + ' to learn more about interactive tables.';\n",
              "          element.innerHTML = '';\n",
              "          dataTable['output_type'] = 'display_data';\n",
              "          await google.colab.output.renderOutput(dataTable, element);\n",
              "          const docLink = document.createElement('div');\n",
              "          docLink.innerHTML = docLinkHtml;\n",
              "          element.appendChild(docLink);\n",
              "        }\n",
              "      </script>\n",
              "    </div>\n",
              "  </div>\n",
              "  "
            ]
          },
          "metadata": {},
          "execution_count": 30
        }
      ],
      "source": [
        "# Checking Information of Categorical Features.\n",
        "data.describe(include=['object']).transpose()[1:]"
      ]
    },
    {
      "cell_type": "markdown",
      "metadata": {
        "id": "ZxWGAqCX07wT"
      },
      "source": [
        "**Inference** : There are two subcategories under \"Email_Type\" and \"Email_Source_Type\" features, three subcategories under \"Email_Campaign_Type\" and \"Time_Email_Sent_Category\" features, and seven subcategories under \"Customer_Location\" feature."
      ]
    },
    {
      "cell_type": "code",
      "execution_count": null,
      "metadata": {
        "colab": {
          "base_uri": "https://localhost:8080/",
          "height": 1000
        },
        "id": "PWur3ztCyjG6",
        "outputId": "22be8b7e-0bdc-4d89-f50f-85ac1ff98492"
      },
      "outputs": [
        {
          "output_type": "display_data",
          "data": {
            "text/plain": [
              "<Figure size 432x288 with 1 Axes>"
            ],
            "image/png": "[encoded data removed]"
          },
          "metadata": {
            "needs_background": "light"
          }
        },
        {
          "output_type": "display_data",
          "data": {
            "text/plain": [
              "<Figure size 432x288 with 1 Axes>"
            ],
            "image/png": "[encoded data removed]"
          },
          "metadata": {
            "needs_background": "light"
          }
        },
        {
          "output_type": "display_data",
          "data": {
            "text/plain": [
              "<Figure size 432x288 with 1 Axes>"
            ],
            "image/png": "[encoded data removed]"
          },
          "metadata": {
            "needs_background": "light"
          }
        },
        {
          "output_type": "display_data",
          "data": {
            "text/plain": [
              "<Figure size 432x288 with 1 Axes>"
            ],
            "image/png": "[encoded data removed]"
          },
          "metadata": {
            "needs_background": "light"
          }
        },
        {
          "output_type": "display_data",
          "data": {
            "text/plain": [
              "<Figure size 432x288 with 1 Axes>"
            ],
            "image/png": "[encoded data removed]"
          },
          "metadata": {
            "needs_background": "light"
          }
        }
      ],
      "source": [
        "# Checking distribution of categorical features with respect to response variable.\n",
        "## Choosing different colors for plot.\n",
        "color=sns.palettes.color_palette('Spectral')\n",
        "for column in categorical_features:\n",
        "  feature=data.groupby([str(column),'Email_Status'])[column].count().unstack()\n",
        "  fig=feature.plot(kind='bar',stacked=True,title=column+' vs Email Status',color=color)\n",
        "  fig.set_ylabel('Email_Status')\n",
        "  plt.show()"
      ]
    },
    {
      "cell_type": "markdown",
      "metadata": {
        "id": "bdlBmvZ6zK9f"
      },
      "source": [
        "**Inference** : The distribution of Email_Status is similar in all categorical features except \"Email_campaign_Type\".There are more number of points related to majority class in each feature.For \"Email_campaign_Type\" as Type 1 ,the distribution of points w.r.t to classes can be seen similar, as there are very less number of points for the same."
      ]
    },
    {
      "cell_type": "markdown",
      "metadata": {
        "id": "abc7bSYnBi4d"
      },
      "source": [
        "## **Data Preparation before Modelling**"
      ]
    },
    {
      "cell_type": "code",
      "execution_count": null,
      "metadata": {
        "id": "jS1mkdirBqC0"
      },
      "outputs": [],
      "source": [
        "# The \"Email_Id\" feature contains identity information. So dropping this feature.\n",
        "data.drop('Email_ID',axis=1,inplace=True)"
      ]
    },
    {
      "cell_type": "markdown",
      "metadata": {
        "id": "6yQgugb1kTMP"
      },
      "source": [
        "**Removing Outliers**"
      ]
    },
    {
      "cell_type": "markdown",
      "metadata": {
        "id": "BRrnnDs4za-S"
      },
      "source": [
        "As there is high class imbalancy and we have very few points of class \"2\" and class \"1\" , so we will remove only those outliers which belongs to class \"1\"."
      ]
    },
    {
      "cell_type": "code",
      "execution_count": null,
      "metadata": {
        "id": "P2qyYHeQEACH"
      },
      "outputs": [],
      "source": [
        "# Removing points which fall out off the inter quartile range for each feature.\n",
        "for feature in numerical_features:\n",
        "  ## Calculating 25 and 75 percentile.\n",
        "  q_25,q_75=np.percentile(data[~data[feature].isnull()].loc[data['Email_Status']==0,feature],[25,75])\n",
        "  ## Calculating inter quartile range.\n",
        "  iqr=q_75-q_25\n",
        "  ## Calculating upper limit.\n",
        "  upper=q_75+1.5*iqr\n",
        "  ## Calculating lower limit.\n",
        "  lower=q_25-1.5*iqr\n",
        "  ## Dropping all those points which fall above upper limit and below lower limit.\n",
        "  data.drop(data[(data['Email_Status']==0) & (data[feature]>=upper)].index,axis=0,inplace=True)\n",
        "  data.drop(data[(data['Email_Status']==0) & (data[feature]<=lower)].index,axis=0,inplace=True)"
      ]
    },
    {
      "cell_type": "markdown",
      "metadata": {
        "id": "rF_xRrVHkjxk"
      },
      "source": [
        "**Replacing Missing Values**"
      ]
    },
    {
      "cell_type": "markdown",
      "metadata": {
        "id": "OM33KpZ70wOo"
      },
      "source": [
        "We are using Iterative Imputer to fill missing values of numerical features and treating missing values of categorical feature as seperate category using Simple Imputer."
      ]
    },
    {
      "cell_type": "code",
      "execution_count": null,
      "metadata": {
        "id": "LZ0OeVV6kBe9"
      },
      "outputs": [],
      "source": [
        "## Using Iterative Imputer for Numerical Features.\n",
        "num_imputer=IterativeImputer(random_state=0)\n",
        "data[numerical_features]=num_imputer.fit_transform(data[numerical_features])\n",
        "\n",
        "## Treating missing values as seperate category for Categorical Features.\n",
        "cat_imputer=SimpleImputer(missing_values=np.NaN, strategy='constant', fill_value='Missing')\n",
        "data['Customer_Location']=cat_imputer.fit_transform(np.array(data['Customer_Location']).reshape(-1,1))"
      ]
    },
    {
      "cell_type": "code",
      "execution_count": null,
      "metadata": {
        "colab": {
          "base_uri": "https://localhost:8080/"
        },
        "id": "lbzMlAIBkEHt",
        "outputId": "6d2ad38f-a449-45e4-bf0e-573a549e2f8e"
      },
      "outputs": [
        {
          "output_type": "execute_result",
          "data": {
            "text/plain": [
              "Email_Type                   0\n",
              "Subject_Hotness_Score        0\n",
              "Email_Source_Type            0\n",
              "Customer_Location            0\n",
              "Email_Campaign_Type          0\n",
              "Total_Past_Communications    0\n",
              "Time_Email_sent_Category     0\n",
              "Word_Count                   0\n",
              "Total_Links                  0\n",
              "Total_Images                 0\n",
              "Email_Status                 0\n",
              "dtype: int64"
            ]
          },
          "metadata": {},
          "execution_count": 35
        }
      ],
      "source": [
        "# Cross Checking that missing values got replaced or not.\n",
        "data.isnull().sum()"
      ]
    },
    {
      "cell_type": "markdown",
      "metadata": {
        "id": "ms6Td9Uv2v3W"
      },
      "source": [
        "**Removing Collineaity** : To remove collinearity combination of collinear features as a single feature have been taken."
      ]
    },
    {
      "cell_type": "code",
      "execution_count": null,
      "metadata": {
        "id": "mGux6pUMphT5"
      },
      "outputs": [],
      "source": [
        "## Using combination of collinear features to remove collinearity.\n",
        "data['Total_Links_Images']=0.4*data['Total_Links']+0.6*data['Total_Images']"
      ]
    },
    {
      "cell_type": "markdown",
      "metadata": {
        "id": "jxtkDtpckung"
      },
      "source": [
        "**Splitting Dataset into Train and Test Set**"
      ]
    },
    {
      "cell_type": "code",
      "execution_count": null,
      "metadata": {
        "id": "H7A-OCPLn60V"
      },
      "outputs": [],
      "source": [
        "# Collecting response and predictor variables.\n",
        "y=np.array(data['Email_Status']).reshape(-1,1)\n",
        "X=data.drop(['Email_Status','Total_Links','Total_Images'],axis=1)"
      ]
    },
    {
      "cell_type": "code",
      "execution_count": null,
      "metadata": {
        "id": "TxUIsUg7kt60"
      },
      "outputs": [],
      "source": [
        "# Splitting dataset into train and test set.\n",
        "train_set,test_set,y_train,y_test=train_test_split(X,y,test_size=0.2,random_state=0,stratify=y)"
      ]
    },
    {
      "cell_type": "markdown",
      "metadata": {
        "id": "xkxhFH-no8HI"
      },
      "source": [
        "**Transforming Numerical Features**"
      ]
    },
    {
      "cell_type": "code",
      "execution_count": null,
      "metadata": {
        "colab": {
          "base_uri": "https://localhost:8080/"
        },
        "id": "JYK_X9jrqqvp",
        "outputId": "6adc8bda-5c3c-41ce-ab9e-f6b71b2db55c"
      },
      "outputs": [
        {
          "output_type": "stream",
          "name": "stdout",
          "text": [
            "['Subject_Hotness_Score', 'Total_Past_Communications', 'Word_Count', 'Total_Links_Images']\n",
            "====================================================================================================\n",
            "Total numerical Features : 4\n"
          ]
        }
      ],
      "source": [
        "# Collecting Numerical Features.\n",
        "numerical_features=list(X.describe().columns)\n",
        "print(numerical_features)\n",
        "print('='*100)\n",
        "print('Total numerical Features :',len(numerical_features))"
      ]
    },
    {
      "cell_type": "code",
      "execution_count": null,
      "metadata": {
        "id": "4fM_sYNJo18G"
      },
      "outputs": [],
      "source": [
        "# Using Power Transformer as we have seen ealier that it helps in removing the skewness and standardizing as well.\n",
        "transformer=PowerTransformer(standardize=True)\n",
        "## Fitting the transformer with numerical features in train set.\n",
        "transformer.fit(train_set[numerical_features])\n",
        "## Transforming numerical features in train set.\n",
        "train_numerical=transformer.transform(train_set[numerical_features])\n",
        "## Transforming numerical features in test set.\n",
        "test_numerical=transformer.transform(test_set[numerical_features])"
      ]
    },
    {
      "cell_type": "code",
      "execution_count": null,
      "metadata": {
        "colab": {
          "base_uri": "https://localhost:8080/"
        },
        "id": "H2WC7lIas5p5",
        "outputId": "916dd85b-7a42-47f1-ae5c-41d0c3204fba"
      },
      "outputs": [
        {
          "output_type": "stream",
          "name": "stdout",
          "text": [
            "Numerical Train Set Shape : (50075, 4)\n",
            "Numerical Test Set Shape : (12519, 4)\n"
          ]
        }
      ],
      "source": [
        "print('Numerical Train Set Shape :',train_numerical.shape)\n",
        "print('Numerical Test Set Shape :',test_numerical.shape)"
      ]
    },
    {
      "cell_type": "markdown",
      "metadata": {
        "id": "hpw7X3iQr1rA"
      },
      "source": [
        "**Transforming Categorical Features**"
      ]
    },
    {
      "cell_type": "code",
      "execution_count": null,
      "metadata": {
        "colab": {
          "base_uri": "https://localhost:8080/"
        },
        "id": "ctWbhpF2scOg",
        "outputId": "1f7af6b5-05dc-4912-bca6-3cea93325f8c"
      },
      "outputs": [
        {
          "output_type": "stream",
          "name": "stdout",
          "text": [
            "['Email_Type', 'Email_Source_Type', 'Customer_Location', 'Email_Campaign_Type', 'Time_Email_sent_Category']\n",
            "==============================================================================================================\n",
            "Total numerical Features : 5\n"
          ]
        }
      ],
      "source": [
        "# Collecting Categorical Features.\n",
        "print(categorical_features)\n",
        "print('='*110)\n",
        "print('Total numerical Features :',len(categorical_features))\n"
      ]
    },
    {
      "cell_type": "code",
      "execution_count": null,
      "metadata": {
        "id": "R4kV4yQNsto4"
      },
      "outputs": [],
      "source": [
        "# Transfoming Categorical Features which are nominal in nature. \n",
        "ohe=OneHotEncoder(sparse=False)\n",
        "## Fitting the encoder with categorical features in train set.\n",
        "ohe.fit(train_set[categorical_features])\n",
        "## Transforming categorical features in train set.\n",
        "train_categorical=ohe.transform(train_set[categorical_features])\n",
        "## Transforming categorical features in test set.\n",
        "test_categorical=ohe.transform(test_set[categorical_features])"
      ]
    },
    {
      "cell_type": "code",
      "execution_count": null,
      "metadata": {
        "colab": {
          "base_uri": "https://localhost:8080/"
        },
        "id": "rqzFdAkes27p",
        "outputId": "281de942-ed9e-4c23-c5d6-68e2f0e1c098"
      },
      "outputs": [
        {
          "output_type": "stream",
          "name": "stdout",
          "text": [
            "Categorical Train Set Shape : (50075, 18)\n",
            "Categorical Test Set Shape : (12519, 18)\n"
          ]
        }
      ],
      "source": [
        "print('Categorical Train Set Shape :',train_categorical.shape)\n",
        "print('Categorical Test Set Shape :',test_categorical.shape)"
      ]
    },
    {
      "cell_type": "markdown",
      "metadata": {
        "id": "-pMCWahLsy7w"
      },
      "source": [
        "**Concatenating Transformed numerical and categorical features for both train and test set.**"
      ]
    },
    {
      "cell_type": "code",
      "execution_count": null,
      "metadata": {
        "id": "MMUIKn5gtKSF"
      },
      "outputs": [],
      "source": [
        "# Concatecating the numerical and categorical features together.\n",
        "X_train=np.concatenate([train_numerical,train_categorical],axis=1)\n",
        "X_test=np.concatenate([test_numerical,test_categorical],axis=1)"
      ]
    },
    {
      "cell_type": "code",
      "execution_count": null,
      "metadata": {
        "colab": {
          "base_uri": "https://localhost:8080/"
        },
        "id": "Te7h7jRwtP2C",
        "outputId": "66d11b74-f975-4769-dd4f-49d097ec3de7"
      },
      "outputs": [
        {
          "output_type": "stream",
          "name": "stdout",
          "text": [
            "Train Set Shape : (50075, 22)\n",
            "Test Set Shape : (12519, 22)\n"
          ]
        }
      ],
      "source": [
        "print('Train Set Shape :',X_train.shape)\n",
        "print('Test Set Shape :',X_test.shape)"
      ]
    },
    {
      "cell_type": "markdown",
      "metadata": {
        "id": "4V_2_SPB3wm4"
      },
      "source": [
        "## **Handling Class Imbalancy**"
      ]
    },
    {
      "cell_type": "markdown",
      "metadata": {
        "id": "b-3Z6gBI345z"
      },
      "source": [
        "\n",
        "\n",
        "*   There is high class imbalancy in the dataset. To solve this we will provide different weights to both the majority and minority classes. The difference in weights will influence the classification of the classes during the training phase. The whole purpose is to penalize the misclassification made by the minority class by setting a higher class weight and at the same time reducing weight for the majority class.\n",
        "*   The weights can be assigned accoding to classes simply by using parameter \"class_weight\" as \"balanced\" while defining the machine learning models.\n",
        "\n"
      ]
    },
    {
      "cell_type": "markdown",
      "metadata": {
        "id": "93n1591NDQPY"
      },
      "source": [
        "## **Metrics to be used**"
      ]
    },
    {
      "cell_type": "markdown",
      "metadata": {
        "id": "RK65KH81fakW"
      },
      "source": [
        "There is high imbalance of classes in the dataset, and also our objective is to classify the mails as ignored ; read and acknowledged as correctly as possible to corresponding classes.So fo this task we will look upon weighted Precison,Recall and F1 score, as Precision and Recall account for true positives which is nothing but correctly classified points belonging to respective classes and F1 score is just hamonic mean of these two which is a combined single metric to look for. We wil also look for ROC_AUC score. In final we look upon below metics.\n",
        "\n",
        "\n",
        "*   Precison Score\n",
        "*   Recall Score\n",
        "*   F1 Score\n",
        "*   ROC AUC Score\n",
        "\n"
      ]
    },
    {
      "cell_type": "markdown",
      "metadata": {
        "id": "0E53qwprjfjs"
      },
      "source": [
        "## **Model Explainabilty and Feature Importance**"
      ]
    },
    {
      "cell_type": "markdown",
      "metadata": {
        "id": "aqVYhCnlj57r"
      },
      "source": [
        "\n",
        "*   The objective is to classify the mails as ignored ; read and acknowledged. For this , we need to find the reasons why the mails being ignored , how many being read and finally how many being acknowledged.So wee need a model which an explain the reasons fo classifications , so that we can improve the content for the mails such that mails could get read and acknowledged in the future which helps the owners stay connected with their prospective customers.\n",
        "*   The feature importance is also very important in this case as we need to know which are the most important features for classification, so we can focus on those to improve the content for mails.\n",
        "\n"
      ]
    },
    {
      "cell_type": "markdown",
      "metadata": {
        "id": "kvF6Xd4eta6L"
      },
      "source": [
        "## **Modelling**"
      ]
    },
    {
      "cell_type": "code",
      "execution_count": null,
      "metadata": {
        "id": "lVBxxXSIct1r"
      },
      "outputs": [],
      "source": [
        "# Function for hyperparameter tuning which returns best params for the classifier.\n",
        "def model_best_params(classifier,parameters,X_train,y_train):\n",
        "  # Using GridSearch CV.\n",
        "  gscv=GridSearchCV(classifier, parameters, scoring='recall_weighted',cv=5)\n",
        "  ## Fitting GridSearchCV.\n",
        "  gscv.fit(X_train,y_train)\n",
        "  # returning best params.\n",
        "  return gscv.best_params_"
      ]
    },
    {
      "cell_type": "code",
      "execution_count": null,
      "metadata": {
        "id": "x5NR0EEfct1s"
      },
      "outputs": [],
      "source": [
        "# Function which fits the classifier and returns the results -- metrics score.\n",
        "def model_results(classifier,X_train,y_train,X_test,y_test):\n",
        "  # Fitting the classifier with train set.\n",
        "  classifier.fit(X_train,y_train)\n",
        "  # Collecting Predictions -- Each point belongs to which class type and probabilities of each class for corresponding point.\n",
        "  ## Test Pedictions.\n",
        "  y_pred_te=classifier.predict(X_test)\n",
        "  y_pred_proba_te=classifier.predict_proba(X_test)\n",
        "  ## Train Predictions.\n",
        "  y_pred_tr=classifier.predict(X_train)\n",
        "  y_pred_proba_tr=classifier.predict_proba(X_train)\n",
        "\n",
        "  # Calculating Metrics Scores.\n",
        "  ## Test Scores.\n",
        "  cm=confusion_matrix(y_test,y_pred_te)\n",
        "  precision_te=precision_score(y_test,y_pred_te,average='weighted')\n",
        "  recall_te=recall_score(y_test,y_pred_te,average='weighted')\n",
        "  f1_te=f1_score(y_test,y_pred_te,average='weighted')\n",
        "  roc_auc_te=roc_auc_score(y_test,y_pred_proba_te,multi_class='ovr',average='weighted')\n",
        "  ## Train Scores.\n",
        "  precision_tr=precision_score(y_train,y_pred_tr,average='weighted')\n",
        "  recall_tr=recall_score(y_train,y_pred_tr,average='weighted')\n",
        "  f1_tr=f1_score(y_train,y_pred_tr,average='weighted')\n",
        "  roc_auc_tr=roc_auc_score(y_train,y_pred_proba_tr,multi_class='ovr',average='weighted')\n",
        "\n",
        "  scoring_dict={'Metrics':['precision score','recall score','f1 score','roc_auc score'],\n",
        "                'Train Score':[precision_tr,recall_tr,f1_tr,roc_auc_tr],\n",
        "                'Test Score':[precision_te,recall_te,f1_te,roc_auc_te]}\n",
        "  # Storing results in dataframe.\n",
        "  results=pd.DataFrame(scoring_dict)\n",
        "  ## Plotting Confusion Matrix whenever function would be called.\n",
        "  ConfusionMatrixDisplay(cm).plot()\n",
        "  plt.show()\n",
        "\n",
        "  # returning results.\n",
        "  return results\n"
      ]
    },
    {
      "cell_type": "markdown",
      "metadata": {
        "id": "twtvP_zV30-c"
      },
      "source": [
        "### **Logistic Regression**"
      ]
    },
    {
      "cell_type": "code",
      "execution_count": null,
      "metadata": {
        "colab": {
          "base_uri": "https://localhost:8080/",
          "height": 441
        },
        "id": "cfYr30dU30HK",
        "outputId": "6f6a4278-e3fd-4888-ce26-0db1cb0cac9c"
      },
      "outputs": [
        {
          "output_type": "display_data",
          "data": {
            "text/plain": [
              "<Figure size 432x288 with 2 Axes>"
            ],
            "image/png": "[encoded data removed]"
          },
          "metadata": {
            "needs_background": "light"
          }
        },
        {
          "output_type": "execute_result",
          "data": {
            "text/plain": [
              "           Metrics  Train Score  Test Score\n",
              "0  precision score     0.763315    0.762113\n",
              "1     recall score     0.628617    0.628804\n",
              "2         f1 score     0.679221    0.679677\n",
              "3    roc_auc score     0.775551    0.779003"
            ],
            "text/html": [
              "\n",
              "  <div id=\"df-8eb5c45a-7f0a-464f-8fe4-1954c120ca80\">\n",
              "    <div class=\"colab-df-container\">\n",
              "      <div>\n",
              "<style scoped>\n",
              "    .dataframe tbody tr th:only-of-type {\n",
              "        vertical-align: middle;\n",
              "    }\n",
              "\n",
              "    .dataframe tbody tr th {\n",
              "        vertical-align: top;\n",
              "    }\n",
              "\n",
              "    .dataframe thead th {\n",
              "        text-align: right;\n",
              "    }\n",
              "</style>\n",
              "<table border=\"1\" class=\"dataframe\">\n",
              "  <thead>\n",
              "    <tr style=\"text-align: right;\">\n",
              "      <th></th>\n",
              "      <th>Metrics</th>\n",
              "      <th>Train Score</th>\n",
              "      <th>Test Score</th>\n",
              "    </tr>\n",
              "  </thead>\n",
              "  <tbody>\n",
              "    <tr>\n",
              "      <th>0</th>\n",
              "      <td>precision score</td>\n",
              "      <td>0.763315</td>\n",
              "      <td>0.762113</td>\n",
              "    </tr>\n",
              "    <tr>\n",
              "      <th>1</th>\n",
              "      <td>recall score</td>\n",
              "      <td>0.628617</td>\n",
              "      <td>0.628804</td>\n",
              "    </tr>\n",
              "    <tr>\n",
              "      <th>2</th>\n",
              "      <td>f1 score</td>\n",
              "      <td>0.679221</td>\n",
              "      <td>0.679677</td>\n",
              "    </tr>\n",
              "    <tr>\n",
              "      <th>3</th>\n",
              "      <td>roc_auc score</td>\n",
              "      <td>0.775551</td>\n",
              "      <td>0.779003</td>\n",
              "    </tr>\n",
              "  </tbody>\n",
              "</table>\n",
              "</div>\n",
              "      <button class=\"colab-df-convert\" onclick=\"convertToInteractive('df-8eb5c45a-7f0a-464f-8fe4-1954c120ca80')\"\n",
              "              title=\"Convert this dataframe to an interactive table.\"\n",
              "              style=\"display:none;\">\n",
              "        \n",
              "  <svg xmlns=\"http://www.w3.org/2000/svg\" height=\"24px\"viewBox=\"0 0 24 24\"\n",
              "       width=\"24px\">\n",
              "    <path d=\"M0 0h24v24H0V0z\" fill=\"none\"/>\n",
              "    <path d=\"M18.56 5.44l.94 2.06.94-2.06 2.06-.94-2.06-.94-.94-2.06-.94 2.06-2.06.94zm-11 1L8.5 8.5l.94-2.06 2.06-.94-2.06-.94L8.5 2.5l-.94 2.06-2.06.94zm10 10l.94 2.06.94-2.06 2.06-.94-2.06-.94-.94-2.06-.94 2.06-2.06.94z\"/><path d=\"M17.41 7.96l-1.37-1.37c-.4-.4-.92-.59-1.43-.59-.52 0-1.04.2-1.43.59L10.3 9.45l-7.72 7.72c-.78.78-.78 2.05 0 2.83L4 21.41c.39.39.9.59 1.41.59.51 0 1.02-.2 1.41-.59l7.78-7.78 2.81-2.81c.8-.78.8-2.07 0-2.86zM5.41 20L4 18.59l7.72-7.72 1.47 1.35L5.41 20z\"/>\n",
              "  </svg>\n",
              "      </button>\n",
              "      \n",
              "  <style>\n",
              "    .colab-df-container {\n",
              "      display:flex;\n",
              "      flex-wrap:wrap;\n",
              "      gap: 12px;\n",
              "    }\n",
              "\n",
              "    .colab-df-convert {\n",
              "      background-color: #E8F0FE;\n",
              "      border: none;\n",
              "      border-radius: 50%;\n",
              "      cursor: pointer;\n",
              "      display: none;\n",
              "      fill: #1967D2;\n",
              "      height: 32px;\n",
              "      padding: 0 0 0 0;\n",
              "      width: 32px;\n",
              "    }\n",
              "\n",
              "    .colab-df-convert:hover {\n",
              "      background-color: #E2EBFA;\n",
              "      box-shadow: 0px 1px 2px rgba(60, 64, 67, 0.3), 0px 1px 3px 1px rgba(60, 64, 67, 0.15);\n",
              "      fill: #174EA6;\n",
              "    }\n",
              "\n",
              "    [theme=dark] .colab-df-convert {\n",
              "      background-color: #3B4455;\n",
              "      fill: #D2E3FC;\n",
              "    }\n",
              "\n",
              "    [theme=dark] .colab-df-convert:hover {\n",
              "      background-color: #434B5C;\n",
              "      box-shadow: 0px 1px 3px 1px rgba(0, 0, 0, 0.15);\n",
              "      filter: drop-shadow(0px 1px 2px rgba(0, 0, 0, 0.3));\n",
              "      fill: #FFFFFF;\n",
              "    }\n",
              "  </style>\n",
              "\n",
              "      <script>\n",
              "        const buttonEl =\n",
              "          document.querySelector('#df-8eb5c45a-7f0a-464f-8fe4-1954c120ca80 button.colab-df-convert');\n",
              "        buttonEl.style.display =\n",
              "          google.colab.kernel.accessAllowed ? 'block' : 'none';\n",
              "\n",
              "        async function convertToInteractive(key) {\n",
              "          const element = document.querySelector('#df-8eb5c45a-7f0a-464f-8fe4-1954c120ca80');\n",
              "          const dataTable =\n",
              "            await google.colab.kernel.invokeFunction('convertToInteractive',\n",
              "                                                     [key], {});\n",
              "          if (!dataTable) return;\n",
              "\n",
              "          const docLinkHtml = 'Like what you see? Visit the ' +\n",
              "            '<a target=\"_blank\" href=https://colab.research.google.com/notebooks/data_table.ipynb>data table notebook</a>'\n",
              "            + ' to learn more about interactive tables.';\n",
              "          element.innerHTML = '';\n",
              "          dataTable['output_type'] = 'display_data';\n",
              "          await google.colab.output.renderOutput(dataTable, element);\n",
              "          const docLink = document.createElement('div');\n",
              "          docLink.innerHTML = docLinkHtml;\n",
              "          element.appendChild(docLink);\n",
              "        }\n",
              "      </script>\n",
              "    </div>\n",
              "  </div>\n",
              "  "
            ]
          },
          "metadata": {},
          "execution_count": 49
        }
      ],
      "source": [
        "# Logistic Regression.\n",
        "lr=LogisticRegression(class_weight='balanced')\n",
        "# Training and Collecting the results for the classifier.\n",
        "results=model_results(lr,X_train,y_train,X_test,y_test)\n",
        "results"
      ]
    },
    {
      "cell_type": "markdown",
      "metadata": {
        "id": "sxFEghGQkbod"
      },
      "source": [
        "**Inference** : \n",
        "*   The training and test scores for Logistic Regression don't differ much so the model is not overfitting or underfitting.\n",
        "*   The Logistic Regression gives test score of precison as 0.762 and roc_auc as 0.779 ,but recall score is low which is 0.628, thus f1 score is low which is 0.679.\n",
        "*   It is able to correctly classify 7007 points out of 9836 of class 0.\n",
        "*   It is able to correctly classify 298 points out of 475 of class 2 which is a minority class, but it classified only 567 points out of 2208 of class 1.\n",
        "\n",
        "\n",
        "\n"
      ]
    },
    {
      "cell_type": "code",
      "execution_count": null,
      "metadata": {
        "colab": {
          "base_uri": "https://localhost:8080/"
        },
        "id": "TwLBYalJ5euK",
        "outputId": "cc25d135-933d-48b8-fac1-5761dfa43f9c"
      },
      "outputs": [
        {
          "output_type": "stream",
          "name": "stdout",
          "text": [
            "{'C': 100}\n"
          ]
        }
      ],
      "source": [
        "# Hyper parameter tuning.\n",
        "lr=LogisticRegression(class_weight='balanced')\n",
        "parameters={'C':[0.0001,0.001,0.01,0.1,1,10,100,1000]}\n",
        "\n",
        "# Collecting best params for the classifier.\n",
        "best_params=model_best_params(lr,parameters,X_train,y_train)\n",
        "print(best_params)"
      ]
    },
    {
      "cell_type": "code",
      "execution_count": null,
      "metadata": {
        "colab": {
          "base_uri": "https://localhost:8080/",
          "height": 441
        },
        "id": "H9GUY9Q9hLSc",
        "outputId": "20de4ce3-42e8-482d-f07c-268671da6361"
      },
      "outputs": [
        {
          "output_type": "display_data",
          "data": {
            "text/plain": [
              "<Figure size 432x288 with 2 Axes>"
            ],
            "image/png": "[encoded data removed]"
          },
          "metadata": {
            "needs_background": "light"
          }
        },
        {
          "output_type": "execute_result",
          "data": {
            "text/plain": [
              "           Metrics  Train Score  Test Score\n",
              "0  precision score     0.763296    0.762410\n",
              "1     recall score     0.628637    0.629204\n",
              "2         f1 score     0.679241    0.680042\n",
              "3    roc_auc score     0.775561    0.779027"
            ],
            "text/html": [
              "\n",
              "  <div id=\"df-5773c6be-a2e4-499a-a023-391e8912d6cd\">\n",
              "    <div class=\"colab-df-container\">\n",
              "      <div>\n",
              "<style scoped>\n",
              "    .dataframe tbody tr th:only-of-type {\n",
              "        vertical-align: middle;\n",
              "    }\n",
              "\n",
              "    .dataframe tbody tr th {\n",
              "        vertical-align: top;\n",
              "    }\n",
              "\n",
              "    .dataframe thead th {\n",
              "        text-align: right;\n",
              "    }\n",
              "</style>\n",
              "<table border=\"1\" class=\"dataframe\">\n",
              "  <thead>\n",
              "    <tr style=\"text-align: right;\">\n",
              "      <th></th>\n",
              "      <th>Metrics</th>\n",
              "      <th>Train Score</th>\n",
              "      <th>Test Score</th>\n",
              "    </tr>\n",
              "  </thead>\n",
              "  <tbody>\n",
              "    <tr>\n",
              "      <th>0</th>\n",
              "      <td>precision score</td>\n",
              "      <td>0.763296</td>\n",
              "      <td>0.762410</td>\n",
              "    </tr>\n",
              "    <tr>\n",
              "      <th>1</th>\n",
              "      <td>recall score</td>\n",
              "      <td>0.628637</td>\n",
              "      <td>0.629204</td>\n",
              "    </tr>\n",
              "    <tr>\n",
              "      <th>2</th>\n",
              "      <td>f1 score</td>\n",
              "      <td>0.679241</td>\n",
              "      <td>0.680042</td>\n",
              "    </tr>\n",
              "    <tr>\n",
              "      <th>3</th>\n",
              "      <td>roc_auc score</td>\n",
              "      <td>0.775561</td>\n",
              "      <td>0.779027</td>\n",
              "    </tr>\n",
              "  </tbody>\n",
              "</table>\n",
              "</div>\n",
              "      <button class=\"colab-df-convert\" onclick=\"convertToInteractive('df-5773c6be-a2e4-499a-a023-391e8912d6cd')\"\n",
              "              title=\"Convert this dataframe to an interactive table.\"\n",
              "              style=\"display:none;\">\n",
              "        \n",
              "  <svg xmlns=\"http://www.w3.org/2000/svg\" height=\"24px\"viewBox=\"0 0 24 24\"\n",
              "       width=\"24px\">\n",
              "    <path d=\"M0 0h24v24H0V0z\" fill=\"none\"/>\n",
              "    <path d=\"M18.56 5.44l.94 2.06.94-2.06 2.06-.94-2.06-.94-.94-2.06-.94 2.06-2.06.94zm-11 1L8.5 8.5l.94-2.06 2.06-.94-2.06-.94L8.5 2.5l-.94 2.06-2.06.94zm10 10l.94 2.06.94-2.06 2.06-.94-2.06-.94-.94-2.06-.94 2.06-2.06.94z\"/><path d=\"M17.41 7.96l-1.37-1.37c-.4-.4-.92-.59-1.43-.59-.52 0-1.04.2-1.43.59L10.3 9.45l-7.72 7.72c-.78.78-.78 2.05 0 2.83L4 21.41c.39.39.9.59 1.41.59.51 0 1.02-.2 1.41-.59l7.78-7.78 2.81-2.81c.8-.78.8-2.07 0-2.86zM5.41 20L4 18.59l7.72-7.72 1.47 1.35L5.41 20z\"/>\n",
              "  </svg>\n",
              "      </button>\n",
              "      \n",
              "  <style>\n",
              "    .colab-df-container {\n",
              "      display:flex;\n",
              "      flex-wrap:wrap;\n",
              "      gap: 12px;\n",
              "    }\n",
              "\n",
              "    .colab-df-convert {\n",
              "      background-color: #E8F0FE;\n",
              "      border: none;\n",
              "      border-radius: 50%;\n",
              "      cursor: pointer;\n",
              "      display: none;\n",
              "      fill: #1967D2;\n",
              "      height: 32px;\n",
              "      padding: 0 0 0 0;\n",
              "      width: 32px;\n",
              "    }\n",
              "\n",
              "    .colab-df-convert:hover {\n",
              "      background-color: #E2EBFA;\n",
              "      box-shadow: 0px 1px 2px rgba(60, 64, 67, 0.3), 0px 1px 3px 1px rgba(60, 64, 67, 0.15);\n",
              "      fill: #174EA6;\n",
              "    }\n",
              "\n",
              "    [theme=dark] .colab-df-convert {\n",
              "      background-color: #3B4455;\n",
              "      fill: #D2E3FC;\n",
              "    }\n",
              "\n",
              "    [theme=dark] .colab-df-convert:hover {\n",
              "      background-color: #434B5C;\n",
              "      box-shadow: 0px 1px 3px 1px rgba(0, 0, 0, 0.15);\n",
              "      filter: drop-shadow(0px 1px 2px rgba(0, 0, 0, 0.3));\n",
              "      fill: #FFFFFF;\n",
              "    }\n",
              "  </style>\n",
              "\n",
              "      <script>\n",
              "        const buttonEl =\n",
              "          document.querySelector('#df-5773c6be-a2e4-499a-a023-391e8912d6cd button.colab-df-convert');\n",
              "        buttonEl.style.display =\n",
              "          google.colab.kernel.accessAllowed ? 'block' : 'none';\n",
              "\n",
              "        async function convertToInteractive(key) {\n",
              "          const element = document.querySelector('#df-5773c6be-a2e4-499a-a023-391e8912d6cd');\n",
              "          const dataTable =\n",
              "            await google.colab.kernel.invokeFunction('convertToInteractive',\n",
              "                                                     [key], {});\n",
              "          if (!dataTable) return;\n",
              "\n",
              "          const docLinkHtml = 'Like what you see? Visit the ' +\n",
              "            '<a target=\"_blank\" href=https://colab.research.google.com/notebooks/data_table.ipynb>data table notebook</a>'\n",
              "            + ' to learn more about interactive tables.';\n",
              "          element.innerHTML = '';\n",
              "          dataTable['output_type'] = 'display_data';\n",
              "          await google.colab.output.renderOutput(dataTable, element);\n",
              "          const docLink = document.createElement('div');\n",
              "          docLink.innerHTML = docLinkHtml;\n",
              "          element.appendChild(docLink);\n",
              "        }\n",
              "      </script>\n",
              "    </div>\n",
              "  </div>\n",
              "  "
            ]
          },
          "metadata": {},
          "execution_count": 51
        }
      ],
      "source": [
        "# Training and collecting the results of the classifier with best params.\n",
        "best_lr=LogisticRegression(class_weight='balanced',C=100)\n",
        "best_lr_results=model_results(best_lr,X_train,y_train,X_test,y_test)\n",
        "best_lr_results"
      ]
    },
    {
      "cell_type": "markdown",
      "metadata": {
        "id": "lgUKT0iitXZd"
      },
      "source": [
        "**Inference** : \n",
        "\n",
        "*   After HyperParameter Tuning also,the training and test scores don't differ much which is a good sign and results don't change much.\n",
        "*   It gives score of precison as 0.762 and roc_auc as 0.779 but recall score is low which is 0.629 and thus f1 score is also low which is 0.68.\n",
        "*   It is able to correctly classify 7010 points out of 9836 of class 1.\n",
        "*   It is able to correctly classify 298 points out of 475 of class 2, but it still classified only 569 points out of 2208.\n",
        "\n",
        "\n",
        "\n"
      ]
    },
    {
      "cell_type": "markdown",
      "metadata": {
        "id": "eyh8gnN8TQMF"
      },
      "source": [
        "### **Naive Baye's Classifier**"
      ]
    },
    {
      "cell_type": "markdown",
      "metadata": {
        "id": "JTAek39r5vPU"
      },
      "source": [
        "**Note** : \n",
        "*   To handle class imbalancy in NB we will simply ignore the class prior probabilities , and to that we will use ComplementNB instead of Gaussian NB.  \n",
        "*   The Complement NB assumes that numerical fatures comes from Multinomial Distribution that means these features can't contain negative values, so to keep this in mind we will normalize the data using MinMaxScaler instead of using standardization (using Power Transformer).\n",
        "*   To remove skewness from numerical features we will use cuberoot transformation before normalization , as we have seen in EDA above that cuberoot transformation remove skewness well."
      ]
    },
    {
      "cell_type": "code",
      "execution_count": null,
      "metadata": {
        "id": "O7YSiJqvQHwr"
      },
      "outputs": [],
      "source": [
        "# Defining MinMaxScaler.\n",
        "scaler=MinMaxScaler()\n",
        "\n",
        "## Removing skewness from numerical features using Cube Root Transformation.\n",
        "train_numerical_cbrt=np.cbrt(train_set[numerical_features])\n",
        "test_numerical_cbrt=np.cbrt(test_set[numerical_features])\n",
        "## Fitting the scaler with numerical features in train set.\n",
        "scaler.fit(train_numerical_cbrt)\n",
        "## Transforming numerical features in train set.\n",
        "train_numerical_2=scaler.transform(train_numerical_cbrt)\n",
        "## Transforming numerical features in test set.\n",
        "test_numerical_2=scaler.transform(test_numerical_cbrt)\n",
        "\n",
        "# Concatecating the numerical and categorical features together.\n",
        "X_train_2=np.concatenate([train_numerical_2,train_categorical],axis=1)\n",
        "X_test_2=np.concatenate([test_numerical_2,test_categorical],axis=1)"
      ]
    },
    {
      "cell_type": "code",
      "execution_count": null,
      "metadata": {
        "colab": {
          "base_uri": "https://localhost:8080/",
          "height": 437
        },
        "id": "uk_njS_Xad5P",
        "outputId": "b02a6a45-59e9-40af-c5a9-16bb48e0176f"
      },
      "outputs": [
        {
          "output_type": "display_data",
          "data": {
            "text/plain": [
              "<Figure size 432x288 with 2 Axes>"
            ],
            "image/png": "[encoded data removed]"
          },
          "metadata": {
            "needs_background": "light"
          }
        },
        {
          "output_type": "execute_result",
          "data": {
            "text/plain": [
              "           Metrics  Train Score  Test Score\n",
              "0  precision score     0.728663    0.727990\n",
              "1     recall score     0.693620    0.690870\n",
              "2         f1 score     0.704533    0.702395\n",
              "3    roc_auc score     0.718995    0.714263"
            ],
            "text/html": [
              "\n",
              "  <div id=\"df-7f027180-c56d-472b-a735-d7d0cc0fefa0\">\n",
              "    <div class=\"colab-df-container\">\n",
              "      <div>\n",
              "<style scoped>\n",
              "    .dataframe tbody tr th:only-of-type {\n",
              "        vertical-align: middle;\n",
              "    }\n",
              "\n",
              "    .dataframe tbody tr th {\n",
              "        vertical-align: top;\n",
              "    }\n",
              "\n",
              "    .dataframe thead th {\n",
              "        text-align: right;\n",
              "    }\n",
              "</style>\n",
              "<table border=\"1\" class=\"dataframe\">\n",
              "  <thead>\n",
              "    <tr style=\"text-align: right;\">\n",
              "      <th></th>\n",
              "      <th>Metrics</th>\n",
              "      <th>Train Score</th>\n",
              "      <th>Test Score</th>\n",
              "    </tr>\n",
              "  </thead>\n",
              "  <tbody>\n",
              "    <tr>\n",
              "      <th>0</th>\n",
              "      <td>precision score</td>\n",
              "      <td>0.728663</td>\n",
              "      <td>0.727990</td>\n",
              "    </tr>\n",
              "    <tr>\n",
              "      <th>1</th>\n",
              "      <td>recall score</td>\n",
              "      <td>0.693620</td>\n",
              "      <td>0.690870</td>\n",
              "    </tr>\n",
              "    <tr>\n",
              "      <th>2</th>\n",
              "      <td>f1 score</td>\n",
              "      <td>0.704533</td>\n",
              "      <td>0.702395</td>\n",
              "    </tr>\n",
              "    <tr>\n",
              "      <th>3</th>\n",
              "      <td>roc_auc score</td>\n",
              "      <td>0.718995</td>\n",
              "      <td>0.714263</td>\n",
              "    </tr>\n",
              "  </tbody>\n",
              "</table>\n",
              "</div>\n",
              "      <button class=\"colab-df-convert\" onclick=\"convertToInteractive('df-7f027180-c56d-472b-a735-d7d0cc0fefa0')\"\n",
              "              title=\"Convert this dataframe to an interactive table.\"\n",
              "              style=\"display:none;\">\n",
              "        \n",
              "  <svg xmlns=\"http://www.w3.org/2000/svg\" height=\"24px\"viewBox=\"0 0 24 24\"\n",
              "       width=\"24px\">\n",
              "    <path d=\"M0 0h24v24H0V0z\" fill=\"none\"/>\n",
              "    <path d=\"M18.56 5.44l.94 2.06.94-2.06 2.06-.94-2.06-.94-.94-2.06-.94 2.06-2.06.94zm-11 1L8.5 8.5l.94-2.06 2.06-.94-2.06-.94L8.5 2.5l-.94 2.06-2.06.94zm10 10l.94 2.06.94-2.06 2.06-.94-2.06-.94-.94-2.06-.94 2.06-2.06.94z\"/><path d=\"M17.41 7.96l-1.37-1.37c-.4-.4-.92-.59-1.43-.59-.52 0-1.04.2-1.43.59L10.3 9.45l-7.72 7.72c-.78.78-.78 2.05 0 2.83L4 21.41c.39.39.9.59 1.41.59.51 0 1.02-.2 1.41-.59l7.78-7.78 2.81-2.81c.8-.78.8-2.07 0-2.86zM5.41 20L4 18.59l7.72-7.72 1.47 1.35L5.41 20z\"/>\n",
              "  </svg>\n",
              "      </button>\n",
              "      \n",
              "  <style>\n",
              "    .colab-df-container {\n",
              "      display:flex;\n",
              "      flex-wrap:wrap;\n",
              "      gap: 12px;\n",
              "    }\n",
              "\n",
              "    .colab-df-convert {\n",
              "      background-color: #E8F0FE;\n",
              "      border: none;\n",
              "      border-radius: 50%;\n",
              "      cursor: pointer;\n",
              "      display: none;\n",
              "      fill: #1967D2;\n",
              "      height: 32px;\n",
              "      padding: 0 0 0 0;\n",
              "      width: 32px;\n",
              "    }\n",
              "\n",
              "    .colab-df-convert:hover {\n",
              "      background-color: #E2EBFA;\n",
              "      box-shadow: 0px 1px 2px rgba(60, 64, 67, 0.3), 0px 1px 3px 1px rgba(60, 64, 67, 0.15);\n",
              "      fill: #174EA6;\n",
              "    }\n",
              "\n",
              "    [theme=dark] .colab-df-convert {\n",
              "      background-color: #3B4455;\n",
              "      fill: #D2E3FC;\n",
              "    }\n",
              "\n",
              "    [theme=dark] .colab-df-convert:hover {\n",
              "      background-color: #434B5C;\n",
              "      box-shadow: 0px 1px 3px 1px rgba(0, 0, 0, 0.15);\n",
              "      filter: drop-shadow(0px 1px 2px rgba(0, 0, 0, 0.3));\n",
              "      fill: #FFFFFF;\n",
              "    }\n",
              "  </style>\n",
              "\n",
              "      <script>\n",
              "        const buttonEl =\n",
              "          document.querySelector('#df-7f027180-c56d-472b-a735-d7d0cc0fefa0 button.colab-df-convert');\n",
              "        buttonEl.style.display =\n",
              "          google.colab.kernel.accessAllowed ? 'block' : 'none';\n",
              "\n",
              "        async function convertToInteractive(key) {\n",
              "          const element = document.querySelector('#df-7f027180-c56d-472b-a735-d7d0cc0fefa0');\n",
              "          const dataTable =\n",
              "            await google.colab.kernel.invokeFunction('convertToInteractive',\n",
              "                                                     [key], {});\n",
              "          if (!dataTable) return;\n",
              "\n",
              "          const docLinkHtml = 'Like what you see? Visit the ' +\n",
              "            '<a target=\"_blank\" href=https://colab.research.google.com/notebooks/data_table.ipynb>data table notebook</a>'\n",
              "            + ' to learn more about interactive tables.';\n",
              "          element.innerHTML = '';\n",
              "          dataTable['output_type'] = 'display_data';\n",
              "          await google.colab.output.renderOutput(dataTable, element);\n",
              "          const docLink = document.createElement('div');\n",
              "          docLink.innerHTML = docLinkHtml;\n",
              "          element.appendChild(docLink);\n",
              "        }\n",
              "      </script>\n",
              "    </div>\n",
              "  </div>\n",
              "  "
            ]
          },
          "metadata": {},
          "execution_count": 53
        }
      ],
      "source": [
        "# Naive Baye's.\n",
        "from sklearn.naive_bayes import ComplementNB\n",
        "nb=ComplementNB()\n",
        "# Training and Collecting the results for the classifier.\n",
        "results=model_results(nb,X_train_2,y_train,X_test_2,y_test)\n",
        "results"
      ]
    },
    {
      "cell_type": "markdown",
      "metadata": {
        "id": "aJmRInFw8_6_"
      },
      "source": [
        "**Inference** : \n",
        "*   The training and test scores for Naive Bayes don't differ much so the model is not overfitting or underfitting.\n",
        "*   The Naive Bayes gives test score of precison as 0.727 and roc_auc as 0.714 ,recall score as 0.69, and f1 score as 0.71.\n",
        "*   It is able to correctly classify 7521 points out of 9836 of class 0.\n",
        "*   It is able to correctly classify 1128 points out of 2208 of class 1 which is a great job done , but no points of class 2 have been classified which is not a good sign."
      ]
    },
    {
      "cell_type": "code",
      "execution_count": null,
      "metadata": {
        "colab": {
          "base_uri": "https://localhost:8080/"
        },
        "id": "x2L2RS09aug6",
        "outputId": "f54cfe71-ebd6-4968-c725-63ea79282ddc"
      },
      "outputs": [
        {
          "output_type": "stream",
          "name": "stdout",
          "text": [
            "{'alpha': 1e-09}\n"
          ]
        }
      ],
      "source": [
        "# Hyper parameter tuning.\n",
        "nb=ComplementNB()\n",
        "parameters={'alpha':[1e-09,1e-08,1e-06,1e-04,1e-02,0.1,1,10]}\n",
        "# Collecting best params for the classifier.\n",
        "best_params=model_best_params(nb,parameters,X_train_2,y_train)\n",
        "print(best_params)"
      ]
    },
    {
      "cell_type": "code",
      "execution_count": null,
      "metadata": {
        "colab": {
          "base_uri": "https://localhost:8080/",
          "height": 437
        },
        "id": "iXHrVENkb4cm",
        "outputId": "11cee00b-0924-4958-f928-f97521833571"
      },
      "outputs": [
        {
          "output_type": "display_data",
          "data": {
            "text/plain": [
              "<Figure size 432x288 with 2 Axes>"
            ],
            "image/png": "[encoded data removed]"
          },
          "metadata": {
            "needs_background": "light"
          }
        },
        {
          "output_type": "execute_result",
          "data": {
            "text/plain": [
              "           Metrics  Train Score  Test Score\n",
              "0  precision score     0.728663    0.727990\n",
              "1     recall score     0.693620    0.690870\n",
              "2         f1 score     0.704533    0.702395\n",
              "3    roc_auc score     0.718973    0.714219"
            ],
            "text/html": [
              "\n",
              "  <div id=\"df-96640127-233e-4f96-b05c-a59d0e908886\">\n",
              "    <div class=\"colab-df-container\">\n",
              "      <div>\n",
              "<style scoped>\n",
              "    .dataframe tbody tr th:only-of-type {\n",
              "        vertical-align: middle;\n",
              "    }\n",
              "\n",
              "    .dataframe tbody tr th {\n",
              "        vertical-align: top;\n",
              "    }\n",
              "\n",
              "    .dataframe thead th {\n",
              "        text-align: right;\n",
              "    }\n",
              "</style>\n",
              "<table border=\"1\" class=\"dataframe\">\n",
              "  <thead>\n",
              "    <tr style=\"text-align: right;\">\n",
              "      <th></th>\n",
              "      <th>Metrics</th>\n",
              "      <th>Train Score</th>\n",
              "      <th>Test Score</th>\n",
              "    </tr>\n",
              "  </thead>\n",
              "  <tbody>\n",
              "    <tr>\n",
              "      <th>0</th>\n",
              "      <td>precision score</td>\n",
              "      <td>0.728663</td>\n",
              "      <td>0.727990</td>\n",
              "    </tr>\n",
              "    <tr>\n",
              "      <th>1</th>\n",
              "      <td>recall score</td>\n",
              "      <td>0.693620</td>\n",
              "      <td>0.690870</td>\n",
              "    </tr>\n",
              "    <tr>\n",
              "      <th>2</th>\n",
              "      <td>f1 score</td>\n",
              "      <td>0.704533</td>\n",
              "      <td>0.702395</td>\n",
              "    </tr>\n",
              "    <tr>\n",
              "      <th>3</th>\n",
              "      <td>roc_auc score</td>\n",
              "      <td>0.718973</td>\n",
              "      <td>0.714219</td>\n",
              "    </tr>\n",
              "  </tbody>\n",
              "</table>\n",
              "</div>\n",
              "      <button class=\"colab-df-convert\" onclick=\"convertToInteractive('df-96640127-233e-4f96-b05c-a59d0e908886')\"\n",
              "              title=\"Convert this dataframe to an interactive table.\"\n",
              "              style=\"display:none;\">\n",
              "        \n",
              "  <svg xmlns=\"http://www.w3.org/2000/svg\" height=\"24px\"viewBox=\"0 0 24 24\"\n",
              "       width=\"24px\">\n",
              "    <path d=\"M0 0h24v24H0V0z\" fill=\"none\"/>\n",
              "    <path d=\"M18.56 5.44l.94 2.06.94-2.06 2.06-.94-2.06-.94-.94-2.06-.94 2.06-2.06.94zm-11 1L8.5 8.5l.94-2.06 2.06-.94-2.06-.94L8.5 2.5l-.94 2.06-2.06.94zm10 10l.94 2.06.94-2.06 2.06-.94-2.06-.94-.94-2.06-.94 2.06-2.06.94z\"/><path d=\"M17.41 7.96l-1.37-1.37c-.4-.4-.92-.59-1.43-.59-.52 0-1.04.2-1.43.59L10.3 9.45l-7.72 7.72c-.78.78-.78 2.05 0 2.83L4 21.41c.39.39.9.59 1.41.59.51 0 1.02-.2 1.41-.59l7.78-7.78 2.81-2.81c.8-.78.8-2.07 0-2.86zM5.41 20L4 18.59l7.72-7.72 1.47 1.35L5.41 20z\"/>\n",
              "  </svg>\n",
              "      </button>\n",
              "      \n",
              "  <style>\n",
              "    .colab-df-container {\n",
              "      display:flex;\n",
              "      flex-wrap:wrap;\n",
              "      gap: 12px;\n",
              "    }\n",
              "\n",
              "    .colab-df-convert {\n",
              "      background-color: #E8F0FE;\n",
              "      border: none;\n",
              "      border-radius: 50%;\n",
              "      cursor: pointer;\n",
              "      display: none;\n",
              "      fill: #1967D2;\n",
              "      height: 32px;\n",
              "      padding: 0 0 0 0;\n",
              "      width: 32px;\n",
              "    }\n",
              "\n",
              "    .colab-df-convert:hover {\n",
              "      background-color: #E2EBFA;\n",
              "      box-shadow: 0px 1px 2px rgba(60, 64, 67, 0.3), 0px 1px 3px 1px rgba(60, 64, 67, 0.15);\n",
              "      fill: #174EA6;\n",
              "    }\n",
              "\n",
              "    [theme=dark] .colab-df-convert {\n",
              "      background-color: #3B4455;\n",
              "      fill: #D2E3FC;\n",
              "    }\n",
              "\n",
              "    [theme=dark] .colab-df-convert:hover {\n",
              "      background-color: #434B5C;\n",
              "      box-shadow: 0px 1px 3px 1px rgba(0, 0, 0, 0.15);\n",
              "      filter: drop-shadow(0px 1px 2px rgba(0, 0, 0, 0.3));\n",
              "      fill: #FFFFFF;\n",
              "    }\n",
              "  </style>\n",
              "\n",
              "      <script>\n",
              "        const buttonEl =\n",
              "          document.querySelector('#df-96640127-233e-4f96-b05c-a59d0e908886 button.colab-df-convert');\n",
              "        buttonEl.style.display =\n",
              "          google.colab.kernel.accessAllowed ? 'block' : 'none';\n",
              "\n",
              "        async function convertToInteractive(key) {\n",
              "          const element = document.querySelector('#df-96640127-233e-4f96-b05c-a59d0e908886');\n",
              "          const dataTable =\n",
              "            await google.colab.kernel.invokeFunction('convertToInteractive',\n",
              "                                                     [key], {});\n",
              "          if (!dataTable) return;\n",
              "\n",
              "          const docLinkHtml = 'Like what you see? Visit the ' +\n",
              "            '<a target=\"_blank\" href=https://colab.research.google.com/notebooks/data_table.ipynb>data table notebook</a>'\n",
              "            + ' to learn more about interactive tables.';\n",
              "          element.innerHTML = '';\n",
              "          dataTable['output_type'] = 'display_data';\n",
              "          await google.colab.output.renderOutput(dataTable, element);\n",
              "          const docLink = document.createElement('div');\n",
              "          docLink.innerHTML = docLinkHtml;\n",
              "          element.appendChild(docLink);\n",
              "        }\n",
              "      </script>\n",
              "    </div>\n",
              "  </div>\n",
              "  "
            ]
          },
          "metadata": {},
          "execution_count": 55
        }
      ],
      "source": [
        "# Training and collecting the results of the classifier with best params.\n",
        "best_nb=ComplementNB(alpha=1e-09)\n",
        "results=model_results(best_nb,X_train_2,y_train,X_test_2,y_test)\n",
        "results"
      ]
    },
    {
      "cell_type": "markdown",
      "metadata": {
        "id": "iI5K7kBI96MC"
      },
      "source": [
        "**Inference** : \n",
        "*   After hyperparameter tuning also , the results are pretty much similar and strangely no points of class 2 have been classifed which is not a sign of good modelling as it completely ignoring minority class for classification."
      ]
    },
    {
      "cell_type": "markdown",
      "metadata": {
        "id": "bVCxBmC2BaaR"
      },
      "source": [
        "### **Decision Tree Classifier**"
      ]
    },
    {
      "cell_type": "code",
      "execution_count": null,
      "metadata": {
        "colab": {
          "base_uri": "https://localhost:8080/",
          "height": 437
        },
        "id": "Euc3N7SFCFm0",
        "outputId": "ce7c40b2-914b-401f-cd9e-5b472d837370"
      },
      "outputs": [
        {
          "output_type": "display_data",
          "data": {
            "text/plain": [
              "<Figure size 432x288 with 2 Axes>"
            ],
            "image/png": "[encoded data removed]"
          },
          "metadata": {
            "needs_background": "light"
          }
        },
        {
          "output_type": "execute_result",
          "data": {
            "text/plain": [
              "           Metrics  Train Score  Test Score\n",
              "0  precision score     0.999721    0.722619\n",
              "1     recall score     0.999720    0.720585\n",
              "2         f1 score     0.999720    0.721596\n",
              "3    roc_auc score     1.000000    0.620628"
            ],
            "text/html": [
              "\n",
              "  <div id=\"df-77938b1c-60cf-4528-b8c0-15ec29decea6\">\n",
              "    <div class=\"colab-df-container\">\n",
              "      <div>\n",
              "<style scoped>\n",
              "    .dataframe tbody tr th:only-of-type {\n",
              "        vertical-align: middle;\n",
              "    }\n",
              "\n",
              "    .dataframe tbody tr th {\n",
              "        vertical-align: top;\n",
              "    }\n",
              "\n",
              "    .dataframe thead th {\n",
              "        text-align: right;\n",
              "    }\n",
              "</style>\n",
              "<table border=\"1\" class=\"dataframe\">\n",
              "  <thead>\n",
              "    <tr style=\"text-align: right;\">\n",
              "      <th></th>\n",
              "      <th>Metrics</th>\n",
              "      <th>Train Score</th>\n",
              "      <th>Test Score</th>\n",
              "    </tr>\n",
              "  </thead>\n",
              "  <tbody>\n",
              "    <tr>\n",
              "      <th>0</th>\n",
              "      <td>precision score</td>\n",
              "      <td>0.999721</td>\n",
              "      <td>0.722619</td>\n",
              "    </tr>\n",
              "    <tr>\n",
              "      <th>1</th>\n",
              "      <td>recall score</td>\n",
              "      <td>0.999720</td>\n",
              "      <td>0.720585</td>\n",
              "    </tr>\n",
              "    <tr>\n",
              "      <th>2</th>\n",
              "      <td>f1 score</td>\n",
              "      <td>0.999720</td>\n",
              "      <td>0.721596</td>\n",
              "    </tr>\n",
              "    <tr>\n",
              "      <th>3</th>\n",
              "      <td>roc_auc score</td>\n",
              "      <td>1.000000</td>\n",
              "      <td>0.620628</td>\n",
              "    </tr>\n",
              "  </tbody>\n",
              "</table>\n",
              "</div>\n",
              "      <button class=\"colab-df-convert\" onclick=\"convertToInteractive('df-77938b1c-60cf-4528-b8c0-15ec29decea6')\"\n",
              "              title=\"Convert this dataframe to an interactive table.\"\n",
              "              style=\"display:none;\">\n",
              "        \n",
              "  <svg xmlns=\"http://www.w3.org/2000/svg\" height=\"24px\"viewBox=\"0 0 24 24\"\n",
              "       width=\"24px\">\n",
              "    <path d=\"M0 0h24v24H0V0z\" fill=\"none\"/>\n",
              "    <path d=\"M18.56 5.44l.94 2.06.94-2.06 2.06-.94-2.06-.94-.94-2.06-.94 2.06-2.06.94zm-11 1L8.5 8.5l.94-2.06 2.06-.94-2.06-.94L8.5 2.5l-.94 2.06-2.06.94zm10 10l.94 2.06.94-2.06 2.06-.94-2.06-.94-.94-2.06-.94 2.06-2.06.94z\"/><path d=\"M17.41 7.96l-1.37-1.37c-.4-.4-.92-.59-1.43-.59-.52 0-1.04.2-1.43.59L10.3 9.45l-7.72 7.72c-.78.78-.78 2.05 0 2.83L4 21.41c.39.39.9.59 1.41.59.51 0 1.02-.2 1.41-.59l7.78-7.78 2.81-2.81c.8-.78.8-2.07 0-2.86zM5.41 20L4 18.59l7.72-7.72 1.47 1.35L5.41 20z\"/>\n",
              "  </svg>\n",
              "      </button>\n",
              "      \n",
              "  <style>\n",
              "    .colab-df-container {\n",
              "      display:flex;\n",
              "      flex-wrap:wrap;\n",
              "      gap: 12px;\n",
              "    }\n",
              "\n",
              "    .colab-df-convert {\n",
              "      background-color: #E8F0FE;\n",
              "      border: none;\n",
              "      border-radius: 50%;\n",
              "      cursor: pointer;\n",
              "      display: none;\n",
              "      fill: #1967D2;\n",
              "      height: 32px;\n",
              "      padding: 0 0 0 0;\n",
              "      width: 32px;\n",
              "    }\n",
              "\n",
              "    .colab-df-convert:hover {\n",
              "      background-color: #E2EBFA;\n",
              "      box-shadow: 0px 1px 2px rgba(60, 64, 67, 0.3), 0px 1px 3px 1px rgba(60, 64, 67, 0.15);\n",
              "      fill: #174EA6;\n",
              "    }\n",
              "\n",
              "    [theme=dark] .colab-df-convert {\n",
              "      background-color: #3B4455;\n",
              "      fill: #D2E3FC;\n",
              "    }\n",
              "\n",
              "    [theme=dark] .colab-df-convert:hover {\n",
              "      background-color: #434B5C;\n",
              "      box-shadow: 0px 1px 3px 1px rgba(0, 0, 0, 0.15);\n",
              "      filter: drop-shadow(0px 1px 2px rgba(0, 0, 0, 0.3));\n",
              "      fill: #FFFFFF;\n",
              "    }\n",
              "  </style>\n",
              "\n",
              "      <script>\n",
              "        const buttonEl =\n",
              "          document.querySelector('#df-77938b1c-60cf-4528-b8c0-15ec29decea6 button.colab-df-convert');\n",
              "        buttonEl.style.display =\n",
              "          google.colab.kernel.accessAllowed ? 'block' : 'none';\n",
              "\n",
              "        async function convertToInteractive(key) {\n",
              "          const element = document.querySelector('#df-77938b1c-60cf-4528-b8c0-15ec29decea6');\n",
              "          const dataTable =\n",
              "            await google.colab.kernel.invokeFunction('convertToInteractive',\n",
              "                                                     [key], {});\n",
              "          if (!dataTable) return;\n",
              "\n",
              "          const docLinkHtml = 'Like what you see? Visit the ' +\n",
              "            '<a target=\"_blank\" href=https://colab.research.google.com/notebooks/data_table.ipynb>data table notebook</a>'\n",
              "            + ' to learn more about interactive tables.';\n",
              "          element.innerHTML = '';\n",
              "          dataTable['output_type'] = 'display_data';\n",
              "          await google.colab.output.renderOutput(dataTable, element);\n",
              "          const docLink = document.createElement('div');\n",
              "          docLink.innerHTML = docLinkHtml;\n",
              "          element.appendChild(docLink);\n",
              "        }\n",
              "      </script>\n",
              "    </div>\n",
              "  </div>\n",
              "  "
            ]
          },
          "metadata": {},
          "execution_count": 56
        }
      ],
      "source": [
        "# Decision Tree.\n",
        "dt=DecisionTreeClassifier(class_weight='balanced')\n",
        "# Training and Collecting the results for the classifier.\n",
        "results=model_results(dt,X_train,y_train,X_test,y_test)\n",
        "results"
      ]
    },
    {
      "cell_type": "markdown",
      "metadata": {
        "id": "hVFunB-LZRsN"
      },
      "source": [
        "**Inference** : \n",
        "*   The difference between training and test scores of Decision Tree are very large . The model gives very high scores for train set but not for test set , so it is clearly overfitting.\n",
        "*   The Decision Tree gives test score of precison as 0.723 and roc_auc as 0.622 ,recall score as 0.721, and f1 score as 0.722.\n",
        "*   It is able to correctly classify 8260 points out of 9836 of class 0.\n",
        "*   It is able to correctly classify 725 points out of 2208 of class 1 and only 49 points out of 475 of class 2."
      ]
    },
    {
      "cell_type": "code",
      "execution_count": null,
      "metadata": {
        "colab": {
          "base_uri": "https://localhost:8080/"
        },
        "id": "AmkKvVYDiLtT",
        "outputId": "770c6627-79d6-468a-e266-3069dc21c22f"
      },
      "outputs": [
        {
          "output_type": "stream",
          "name": "stdout",
          "text": [
            "{'max_depth': 50, 'min_samples_split': 5}\n"
          ]
        }
      ],
      "source": [
        "# Hyper parameter tuning.\n",
        "dt=DecisionTreeClassifier(class_weight='balanced')\n",
        "parameters={'max_depth':[5,10,50,100],'min_samples_split':[5,10,100,500]}\n",
        "# Collecting best params for the classifier.\n",
        "best_params=model_best_params(dt,parameters,X_train,y_train)\n",
        "print(best_params)"
      ]
    },
    {
      "cell_type": "code",
      "execution_count": null,
      "metadata": {
        "colab": {
          "base_uri": "https://localhost:8080/",
          "height": 437
        },
        "id": "LK0UfJCui29v",
        "outputId": "a79363e3-4cb7-4d6d-c457-3893733654db"
      },
      "outputs": [
        {
          "output_type": "display_data",
          "data": {
            "text/plain": [
              "<Figure size 432x288 with 2 Axes>"
            ],
            "image/png": "[encoded data removed]"
          },
          "metadata": {
            "needs_background": "light"
          }
        },
        {
          "output_type": "execute_result",
          "data": {
            "text/plain": [
              "           Metrics  Train Score  Test Score\n",
              "0  precision score     0.943312    0.728300\n",
              "1     recall score     0.924074    0.685598\n",
              "2         f1 score     0.928259    0.704407\n",
              "3    roc_auc score     0.989250    0.646756"
            ],
            "text/html": [
              "\n",
              "  <div id=\"df-833078ce-31e0-4d75-8cc9-e8706a767cab\">\n",
              "    <div class=\"colab-df-container\">\n",
              "      <div>\n",
              "<style scoped>\n",
              "    .dataframe tbody tr th:only-of-type {\n",
              "        vertical-align: middle;\n",
              "    }\n",
              "\n",
              "    .dataframe tbody tr th {\n",
              "        vertical-align: top;\n",
              "    }\n",
              "\n",
              "    .dataframe thead th {\n",
              "        text-align: right;\n",
              "    }\n",
              "</style>\n",
              "<table border=\"1\" class=\"dataframe\">\n",
              "  <thead>\n",
              "    <tr style=\"text-align: right;\">\n",
              "      <th></th>\n",
              "      <th>Metrics</th>\n",
              "      <th>Train Score</th>\n",
              "      <th>Test Score</th>\n",
              "    </tr>\n",
              "  </thead>\n",
              "  <tbody>\n",
              "    <tr>\n",
              "      <th>0</th>\n",
              "      <td>precision score</td>\n",
              "      <td>0.943312</td>\n",
              "      <td>0.728300</td>\n",
              "    </tr>\n",
              "    <tr>\n",
              "      <th>1</th>\n",
              "      <td>recall score</td>\n",
              "      <td>0.924074</td>\n",
              "      <td>0.685598</td>\n",
              "    </tr>\n",
              "    <tr>\n",
              "      <th>2</th>\n",
              "      <td>f1 score</td>\n",
              "      <td>0.928259</td>\n",
              "      <td>0.704407</td>\n",
              "    </tr>\n",
              "    <tr>\n",
              "      <th>3</th>\n",
              "      <td>roc_auc score</td>\n",
              "      <td>0.989250</td>\n",
              "      <td>0.646756</td>\n",
              "    </tr>\n",
              "  </tbody>\n",
              "</table>\n",
              "</div>\n",
              "      <button class=\"colab-df-convert\" onclick=\"convertToInteractive('df-833078ce-31e0-4d75-8cc9-e8706a767cab')\"\n",
              "              title=\"Convert this dataframe to an interactive table.\"\n",
              "              style=\"display:none;\">\n",
              "        \n",
              "  <svg xmlns=\"http://www.w3.org/2000/svg\" height=\"24px\"viewBox=\"0 0 24 24\"\n",
              "       width=\"24px\">\n",
              "    <path d=\"M0 0h24v24H0V0z\" fill=\"none\"/>\n",
              "    <path d=\"M18.56 5.44l.94 2.06.94-2.06 2.06-.94-2.06-.94-.94-2.06-.94 2.06-2.06.94zm-11 1L8.5 8.5l.94-2.06 2.06-.94-2.06-.94L8.5 2.5l-.94 2.06-2.06.94zm10 10l.94 2.06.94-2.06 2.06-.94-2.06-.94-.94-2.06-.94 2.06-2.06.94z\"/><path d=\"M17.41 7.96l-1.37-1.37c-.4-.4-.92-.59-1.43-.59-.52 0-1.04.2-1.43.59L10.3 9.45l-7.72 7.72c-.78.78-.78 2.05 0 2.83L4 21.41c.39.39.9.59 1.41.59.51 0 1.02-.2 1.41-.59l7.78-7.78 2.81-2.81c.8-.78.8-2.07 0-2.86zM5.41 20L4 18.59l7.72-7.72 1.47 1.35L5.41 20z\"/>\n",
              "  </svg>\n",
              "      </button>\n",
              "      \n",
              "  <style>\n",
              "    .colab-df-container {\n",
              "      display:flex;\n",
              "      flex-wrap:wrap;\n",
              "      gap: 12px;\n",
              "    }\n",
              "\n",
              "    .colab-df-convert {\n",
              "      background-color: #E8F0FE;\n",
              "      border: none;\n",
              "      border-radius: 50%;\n",
              "      cursor: pointer;\n",
              "      display: none;\n",
              "      fill: #1967D2;\n",
              "      height: 32px;\n",
              "      padding: 0 0 0 0;\n",
              "      width: 32px;\n",
              "    }\n",
              "\n",
              "    .colab-df-convert:hover {\n",
              "      background-color: #E2EBFA;\n",
              "      box-shadow: 0px 1px 2px rgba(60, 64, 67, 0.3), 0px 1px 3px 1px rgba(60, 64, 67, 0.15);\n",
              "      fill: #174EA6;\n",
              "    }\n",
              "\n",
              "    [theme=dark] .colab-df-convert {\n",
              "      background-color: #3B4455;\n",
              "      fill: #D2E3FC;\n",
              "    }\n",
              "\n",
              "    [theme=dark] .colab-df-convert:hover {\n",
              "      background-color: #434B5C;\n",
              "      box-shadow: 0px 1px 3px 1px rgba(0, 0, 0, 0.15);\n",
              "      filter: drop-shadow(0px 1px 2px rgba(0, 0, 0, 0.3));\n",
              "      fill: #FFFFFF;\n",
              "    }\n",
              "  </style>\n",
              "\n",
              "      <script>\n",
              "        const buttonEl =\n",
              "          document.querySelector('#df-833078ce-31e0-4d75-8cc9-e8706a767cab button.colab-df-convert');\n",
              "        buttonEl.style.display =\n",
              "          google.colab.kernel.accessAllowed ? 'block' : 'none';\n",
              "\n",
              "        async function convertToInteractive(key) {\n",
              "          const element = document.querySelector('#df-833078ce-31e0-4d75-8cc9-e8706a767cab');\n",
              "          const dataTable =\n",
              "            await google.colab.kernel.invokeFunction('convertToInteractive',\n",
              "                                                     [key], {});\n",
              "          if (!dataTable) return;\n",
              "\n",
              "          const docLinkHtml = 'Like what you see? Visit the ' +\n",
              "            '<a target=\"_blank\" href=https://colab.research.google.com/notebooks/data_table.ipynb>data table notebook</a>'\n",
              "            + ' to learn more about interactive tables.';\n",
              "          element.innerHTML = '';\n",
              "          dataTable['output_type'] = 'display_data';\n",
              "          await google.colab.output.renderOutput(dataTable, element);\n",
              "          const docLink = document.createElement('div');\n",
              "          docLink.innerHTML = docLinkHtml;\n",
              "          element.appendChild(docLink);\n",
              "        }\n",
              "      </script>\n",
              "    </div>\n",
              "  </div>\n",
              "  "
            ]
          },
          "metadata": {},
          "execution_count": 58
        }
      ],
      "source": [
        "# Training and collecting the results of the classifier with best params.\n",
        "best_dt=DecisionTreeClassifier(max_depth=100,min_samples_split=5,class_weight='balanced')\n",
        "best_dt_results=model_results(best_dt,X_train,y_train,X_test,y_test)\n",
        "best_dt_results"
      ]
    },
    {
      "cell_type": "markdown",
      "metadata": {
        "id": "S39KYs_vbmat"
      },
      "source": [
        "**Inference** : \n",
        "*   After hyperparameter tuning also ,the difference between training and test scores of Decision Tree are still very large . The model gives very high scores for train set but not for test set , so it is clearly overfitting.\n",
        "*   The Decision Tree gives test score of precison as 0.727 and roc_auc as 0.646 ,recall score as 0.684, and f1 score as 0.703.\n",
        "*   It is able to correctly classify 7664 points out of 9836 of class 0.\n",
        "*   It is able to correctly classify 846 points out of 2208 of class 1 and only 63 points out of 475 of class 2."
      ]
    },
    {
      "cell_type": "markdown",
      "metadata": {
        "id": "ALbb_PrVK_Vr"
      },
      "source": [
        "### **Random Forest**"
      ]
    },
    {
      "cell_type": "code",
      "execution_count": null,
      "metadata": {
        "colab": {
          "base_uri": "https://localhost:8080/",
          "height": 437
        },
        "id": "81B8YnvyZy4K",
        "outputId": "349705bc-f32d-4dbe-83c2-182911c4c467"
      },
      "outputs": [
        {
          "output_type": "display_data",
          "data": {
            "text/plain": [
              "<Figure size 432x288 with 2 Axes>"
            ],
            "image/png": "[encoded data removed]"
          },
          "metadata": {
            "needs_background": "light"
          }
        },
        {
          "output_type": "execute_result",
          "data": {
            "text/plain": [
              "           Metrics  Train Score  Test Score\n",
              "0  precision score     0.999661    0.748502\n",
              "1     recall score     0.999661    0.798866\n",
              "2         f1 score     0.999661    0.759984\n",
              "3    roc_auc score     0.999980    0.777642"
            ],
            "text/html": [
              "\n",
              "  <div id=\"df-f97cac70-ce6c-4634-ab94-011444ff5f45\">\n",
              "    <div class=\"colab-df-container\">\n",
              "      <div>\n",
              "<style scoped>\n",
              "    .dataframe tbody tr th:only-of-type {\n",
              "        vertical-align: middle;\n",
              "    }\n",
              "\n",
              "    .dataframe tbody tr th {\n",
              "        vertical-align: top;\n",
              "    }\n",
              "\n",
              "    .dataframe thead th {\n",
              "        text-align: right;\n",
              "    }\n",
              "</style>\n",
              "<table border=\"1\" class=\"dataframe\">\n",
              "  <thead>\n",
              "    <tr style=\"text-align: right;\">\n",
              "      <th></th>\n",
              "      <th>Metrics</th>\n",
              "      <th>Train Score</th>\n",
              "      <th>Test Score</th>\n",
              "    </tr>\n",
              "  </thead>\n",
              "  <tbody>\n",
              "    <tr>\n",
              "      <th>0</th>\n",
              "      <td>precision score</td>\n",
              "      <td>0.999661</td>\n",
              "      <td>0.748502</td>\n",
              "    </tr>\n",
              "    <tr>\n",
              "      <th>1</th>\n",
              "      <td>recall score</td>\n",
              "      <td>0.999661</td>\n",
              "      <td>0.798866</td>\n",
              "    </tr>\n",
              "    <tr>\n",
              "      <th>2</th>\n",
              "      <td>f1 score</td>\n",
              "      <td>0.999661</td>\n",
              "      <td>0.759984</td>\n",
              "    </tr>\n",
              "    <tr>\n",
              "      <th>3</th>\n",
              "      <td>roc_auc score</td>\n",
              "      <td>0.999980</td>\n",
              "      <td>0.777642</td>\n",
              "    </tr>\n",
              "  </tbody>\n",
              "</table>\n",
              "</div>\n",
              "      <button class=\"colab-df-convert\" onclick=\"convertToInteractive('df-f97cac70-ce6c-4634-ab94-011444ff5f45')\"\n",
              "              title=\"Convert this dataframe to an interactive table.\"\n",
              "              style=\"display:none;\">\n",
              "        \n",
              "  <svg xmlns=\"http://www.w3.org/2000/svg\" height=\"24px\"viewBox=\"0 0 24 24\"\n",
              "       width=\"24px\">\n",
              "    <path d=\"M0 0h24v24H0V0z\" fill=\"none\"/>\n",
              "    <path d=\"M18.56 5.44l.94 2.06.94-2.06 2.06-.94-2.06-.94-.94-2.06-.94 2.06-2.06.94zm-11 1L8.5 8.5l.94-2.06 2.06-.94-2.06-.94L8.5 2.5l-.94 2.06-2.06.94zm10 10l.94 2.06.94-2.06 2.06-.94-2.06-.94-.94-2.06-.94 2.06-2.06.94z\"/><path d=\"M17.41 7.96l-1.37-1.37c-.4-.4-.92-.59-1.43-.59-.52 0-1.04.2-1.43.59L10.3 9.45l-7.72 7.72c-.78.78-.78 2.05 0 2.83L4 21.41c.39.39.9.59 1.41.59.51 0 1.02-.2 1.41-.59l7.78-7.78 2.81-2.81c.8-.78.8-2.07 0-2.86zM5.41 20L4 18.59l7.72-7.72 1.47 1.35L5.41 20z\"/>\n",
              "  </svg>\n",
              "      </button>\n",
              "      \n",
              "  <style>\n",
              "    .colab-df-container {\n",
              "      display:flex;\n",
              "      flex-wrap:wrap;\n",
              "      gap: 12px;\n",
              "    }\n",
              "\n",
              "    .colab-df-convert {\n",
              "      background-color: #E8F0FE;\n",
              "      border: none;\n",
              "      border-radius: 50%;\n",
              "      cursor: pointer;\n",
              "      display: none;\n",
              "      fill: #1967D2;\n",
              "      height: 32px;\n",
              "      padding: 0 0 0 0;\n",
              "      width: 32px;\n",
              "    }\n",
              "\n",
              "    .colab-df-convert:hover {\n",
              "      background-color: #E2EBFA;\n",
              "      box-shadow: 0px 1px 2px rgba(60, 64, 67, 0.3), 0px 1px 3px 1px rgba(60, 64, 67, 0.15);\n",
              "      fill: #174EA6;\n",
              "    }\n",
              "\n",
              "    [theme=dark] .colab-df-convert {\n",
              "      background-color: #3B4455;\n",
              "      fill: #D2E3FC;\n",
              "    }\n",
              "\n",
              "    [theme=dark] .colab-df-convert:hover {\n",
              "      background-color: #434B5C;\n",
              "      box-shadow: 0px 1px 3px 1px rgba(0, 0, 0, 0.15);\n",
              "      filter: drop-shadow(0px 1px 2px rgba(0, 0, 0, 0.3));\n",
              "      fill: #FFFFFF;\n",
              "    }\n",
              "  </style>\n",
              "\n",
              "      <script>\n",
              "        const buttonEl =\n",
              "          document.querySelector('#df-f97cac70-ce6c-4634-ab94-011444ff5f45 button.colab-df-convert');\n",
              "        buttonEl.style.display =\n",
              "          google.colab.kernel.accessAllowed ? 'block' : 'none';\n",
              "\n",
              "        async function convertToInteractive(key) {\n",
              "          const element = document.querySelector('#df-f97cac70-ce6c-4634-ab94-011444ff5f45');\n",
              "          const dataTable =\n",
              "            await google.colab.kernel.invokeFunction('convertToInteractive',\n",
              "                                                     [key], {});\n",
              "          if (!dataTable) return;\n",
              "\n",
              "          const docLinkHtml = 'Like what you see? Visit the ' +\n",
              "            '<a target=\"_blank\" href=https://colab.research.google.com/notebooks/data_table.ipynb>data table notebook</a>'\n",
              "            + ' to learn more about interactive tables.';\n",
              "          element.innerHTML = '';\n",
              "          dataTable['output_type'] = 'display_data';\n",
              "          await google.colab.output.renderOutput(dataTable, element);\n",
              "          const docLink = document.createElement('div');\n",
              "          docLink.innerHTML = docLinkHtml;\n",
              "          element.appendChild(docLink);\n",
              "        }\n",
              "      </script>\n",
              "    </div>\n",
              "  </div>\n",
              "  "
            ]
          },
          "metadata": {},
          "execution_count": 59
        }
      ],
      "source": [
        "# Random Forest.\n",
        "rf=RandomForestClassifier(class_weight='balanced',n_jobs=-1)\n",
        "# Training and Collecting the results for the classifier.\n",
        "results=model_results(rf,X_train,y_train,X_test,y_test)\n",
        "results"
      ]
    },
    {
      "cell_type": "markdown",
      "metadata": {
        "id": "o55EQY5ldQK2"
      },
      "source": [
        "**Inference** : \n",
        "*   The difference between training and test scores of Random Forest is very large. The model gives very high scores for train set but not for test set , so it is clearly overfitting.\n",
        "*   The Random Forest gives test score of precison as 0.747 and roc_auc as 0.777 ,recall score as 0.798, and f1 score as 0.758.\n",
        "*   It is correctly classifying 9450 points out of 9836 of class 0 which is great job done.\n",
        "*   It is correctly classifying 531 points out of 2208 of class 1 and only 13 points out of 475 of class 2."
      ]
    },
    {
      "cell_type": "code",
      "execution_count": null,
      "metadata": {
        "colab": {
          "base_uri": "https://localhost:8080/"
        },
        "id": "CfMG7CPeN4Gq",
        "outputId": "1aef3a78-3774-4c6d-fe9d-e506d857dce4"
      },
      "outputs": [
        {
          "output_type": "stream",
          "name": "stdout",
          "text": [
            "{'min_samples_split': 2, 'n_estimators': 500}\n"
          ]
        }
      ],
      "source": [
        "# Hyper parameter tuning.\n",
        "rf=RandomForestClassifier(class_weight='balanced',n_jobs=-1)\n",
        "parameters = {'n_estimators':[10,100,200,500],'min_samples_split': [2,10,100,500]}\n",
        "# Collecting best params for the classifier.\n",
        "best_params=model_best_params(rf,parameters,X_train,y_train)\n",
        "print(best_params)"
      ]
    },
    {
      "cell_type": "code",
      "execution_count": null,
      "metadata": {
        "colab": {
          "base_uri": "https://localhost:8080/",
          "height": 437
        },
        "id": "lMJkk2Q9QzjR",
        "outputId": "9c2db35c-a242-47e7-c2bd-5f546e21acf2"
      },
      "outputs": [
        {
          "output_type": "display_data",
          "data": {
            "text/plain": [
              "<Figure size 432x288 with 2 Axes>"
            ],
            "image/png": "[encoded data removed]"
          },
          "metadata": {
            "needs_background": "light"
          }
        },
        {
          "output_type": "execute_result",
          "data": {
            "text/plain": [
              "           Metrics  Train Score  Test Score\n",
              "0  precision score     0.999721    0.748427\n",
              "1     recall score     0.999720    0.798946\n",
              "2         f1 score     0.999720    0.760025\n",
              "3    roc_auc score     0.999993    0.781079"
            ],
            "text/html": [
              "\n",
              "  <div id=\"df-e974f267-096f-4630-8a25-08c95707b4ae\">\n",
              "    <div class=\"colab-df-container\">\n",
              "      <div>\n",
              "<style scoped>\n",
              "    .dataframe tbody tr th:only-of-type {\n",
              "        vertical-align: middle;\n",
              "    }\n",
              "\n",
              "    .dataframe tbody tr th {\n",
              "        vertical-align: top;\n",
              "    }\n",
              "\n",
              "    .dataframe thead th {\n",
              "        text-align: right;\n",
              "    }\n",
              "</style>\n",
              "<table border=\"1\" class=\"dataframe\">\n",
              "  <thead>\n",
              "    <tr style=\"text-align: right;\">\n",
              "      <th></th>\n",
              "      <th>Metrics</th>\n",
              "      <th>Train Score</th>\n",
              "      <th>Test Score</th>\n",
              "    </tr>\n",
              "  </thead>\n",
              "  <tbody>\n",
              "    <tr>\n",
              "      <th>0</th>\n",
              "      <td>precision score</td>\n",
              "      <td>0.999721</td>\n",
              "      <td>0.748427</td>\n",
              "    </tr>\n",
              "    <tr>\n",
              "      <th>1</th>\n",
              "      <td>recall score</td>\n",
              "      <td>0.999720</td>\n",
              "      <td>0.798946</td>\n",
              "    </tr>\n",
              "    <tr>\n",
              "      <th>2</th>\n",
              "      <td>f1 score</td>\n",
              "      <td>0.999720</td>\n",
              "      <td>0.760025</td>\n",
              "    </tr>\n",
              "    <tr>\n",
              "      <th>3</th>\n",
              "      <td>roc_auc score</td>\n",
              "      <td>0.999993</td>\n",
              "      <td>0.781079</td>\n",
              "    </tr>\n",
              "  </tbody>\n",
              "</table>\n",
              "</div>\n",
              "      <button class=\"colab-df-convert\" onclick=\"convertToInteractive('df-e974f267-096f-4630-8a25-08c95707b4ae')\"\n",
              "              title=\"Convert this dataframe to an interactive table.\"\n",
              "              style=\"display:none;\">\n",
              "        \n",
              "  <svg xmlns=\"http://www.w3.org/2000/svg\" height=\"24px\"viewBox=\"0 0 24 24\"\n",
              "       width=\"24px\">\n",
              "    <path d=\"M0 0h24v24H0V0z\" fill=\"none\"/>\n",
              "    <path d=\"M18.56 5.44l.94 2.06.94-2.06 2.06-.94-2.06-.94-.94-2.06-.94 2.06-2.06.94zm-11 1L8.5 8.5l.94-2.06 2.06-.94-2.06-.94L8.5 2.5l-.94 2.06-2.06.94zm10 10l.94 2.06.94-2.06 2.06-.94-2.06-.94-.94-2.06-.94 2.06-2.06.94z\"/><path d=\"M17.41 7.96l-1.37-1.37c-.4-.4-.92-.59-1.43-.59-.52 0-1.04.2-1.43.59L10.3 9.45l-7.72 7.72c-.78.78-.78 2.05 0 2.83L4 21.41c.39.39.9.59 1.41.59.51 0 1.02-.2 1.41-.59l7.78-7.78 2.81-2.81c.8-.78.8-2.07 0-2.86zM5.41 20L4 18.59l7.72-7.72 1.47 1.35L5.41 20z\"/>\n",
              "  </svg>\n",
              "      </button>\n",
              "      \n",
              "  <style>\n",
              "    .colab-df-container {\n",
              "      display:flex;\n",
              "      flex-wrap:wrap;\n",
              "      gap: 12px;\n",
              "    }\n",
              "\n",
              "    .colab-df-convert {\n",
              "      background-color: #E8F0FE;\n",
              "      border: none;\n",
              "      border-radius: 50%;\n",
              "      cursor: pointer;\n",
              "      display: none;\n",
              "      fill: #1967D2;\n",
              "      height: 32px;\n",
              "      padding: 0 0 0 0;\n",
              "      width: 32px;\n",
              "    }\n",
              "\n",
              "    .colab-df-convert:hover {\n",
              "      background-color: #E2EBFA;\n",
              "      box-shadow: 0px 1px 2px rgba(60, 64, 67, 0.3), 0px 1px 3px 1px rgba(60, 64, 67, 0.15);\n",
              "      fill: #174EA6;\n",
              "    }\n",
              "\n",
              "    [theme=dark] .colab-df-convert {\n",
              "      background-color: #3B4455;\n",
              "      fill: #D2E3FC;\n",
              "    }\n",
              "\n",
              "    [theme=dark] .colab-df-convert:hover {\n",
              "      background-color: #434B5C;\n",
              "      box-shadow: 0px 1px 3px 1px rgba(0, 0, 0, 0.15);\n",
              "      filter: drop-shadow(0px 1px 2px rgba(0, 0, 0, 0.3));\n",
              "      fill: #FFFFFF;\n",
              "    }\n",
              "  </style>\n",
              "\n",
              "      <script>\n",
              "        const buttonEl =\n",
              "          document.querySelector('#df-e974f267-096f-4630-8a25-08c95707b4ae button.colab-df-convert');\n",
              "        buttonEl.style.display =\n",
              "          google.colab.kernel.accessAllowed ? 'block' : 'none';\n",
              "\n",
              "        async function convertToInteractive(key) {\n",
              "          const element = document.querySelector('#df-e974f267-096f-4630-8a25-08c95707b4ae');\n",
              "          const dataTable =\n",
              "            await google.colab.kernel.invokeFunction('convertToInteractive',\n",
              "                                                     [key], {});\n",
              "          if (!dataTable) return;\n",
              "\n",
              "          const docLinkHtml = 'Like what you see? Visit the ' +\n",
              "            '<a target=\"_blank\" href=https://colab.research.google.com/notebooks/data_table.ipynb>data table notebook</a>'\n",
              "            + ' to learn more about interactive tables.';\n",
              "          element.innerHTML = '';\n",
              "          dataTable['output_type'] = 'display_data';\n",
              "          await google.colab.output.renderOutput(dataTable, element);\n",
              "          const docLink = document.createElement('div');\n",
              "          docLink.innerHTML = docLinkHtml;\n",
              "          element.appendChild(docLink);\n",
              "        }\n",
              "      </script>\n",
              "    </div>\n",
              "  </div>\n",
              "  "
            ]
          },
          "metadata": {},
          "execution_count": 61
        }
      ],
      "source": [
        "# Training and collecting the results of the classifier with best params.\n",
        "best_rf=RandomForestClassifier(n_estimators=500,min_samples_split=2,class_weight='balanced',n_jobs=-1)\n",
        "results=model_results(best_rf,X_train,y_train,X_test,y_test)\n",
        "results"
      ]
    },
    {
      "cell_type": "markdown",
      "metadata": {
        "id": "7gI0ax09eb1p"
      },
      "source": [
        "**Inference** : \n",
        "*   After Hyperparameter tuning also, the difference between training and test scores of Random Forest are very large. The model gives very high scores for train set but not for test set , so it is clearly overfitting.\n",
        "*   There is not much difference in test scores."
      ]
    },
    {
      "cell_type": "markdown",
      "metadata": {
        "id": "XlmnRbN1SwPX"
      },
      "source": [
        "### **XGBoost**"
      ]
    },
    {
      "cell_type": "code",
      "execution_count": null,
      "metadata": {
        "colab": {
          "base_uri": "https://localhost:8080/",
          "height": 437
        },
        "id": "6Lx6Hg6JS2VY",
        "outputId": "82d8b2a2-1eab-433d-9d09-eada921a6a25"
      },
      "outputs": [
        {
          "output_type": "display_data",
          "data": {
            "text/plain": [
              "<Figure size 432x288 with 2 Axes>"
            ],
            "image/png": "[encoded data removed]"
          },
          "metadata": {
            "needs_background": "light"
          }
        },
        {
          "output_type": "execute_result",
          "data": {
            "text/plain": [
              "           Metrics  Train Score  Test Score\n",
              "0  precision score     0.760951    0.759584\n",
              "1     recall score     0.812122    0.810688\n",
              "2         f1 score     0.757798    0.755629\n",
              "3    roc_auc score     0.809085    0.813096"
            ],
            "text/html": [
              "\n",
              "  <div id=\"df-467bb1b7-b511-491d-a12e-20323c5642a2\">\n",
              "    <div class=\"colab-df-container\">\n",
              "      <div>\n",
              "<style scoped>\n",
              "    .dataframe tbody tr th:only-of-type {\n",
              "        vertical-align: middle;\n",
              "    }\n",
              "\n",
              "    .dataframe tbody tr th {\n",
              "        vertical-align: top;\n",
              "    }\n",
              "\n",
              "    .dataframe thead th {\n",
              "        text-align: right;\n",
              "    }\n",
              "</style>\n",
              "<table border=\"1\" class=\"dataframe\">\n",
              "  <thead>\n",
              "    <tr style=\"text-align: right;\">\n",
              "      <th></th>\n",
              "      <th>Metrics</th>\n",
              "      <th>Train Score</th>\n",
              "      <th>Test Score</th>\n",
              "    </tr>\n",
              "  </thead>\n",
              "  <tbody>\n",
              "    <tr>\n",
              "      <th>0</th>\n",
              "      <td>precision score</td>\n",
              "      <td>0.760951</td>\n",
              "      <td>0.759584</td>\n",
              "    </tr>\n",
              "    <tr>\n",
              "      <th>1</th>\n",
              "      <td>recall score</td>\n",
              "      <td>0.812122</td>\n",
              "      <td>0.810688</td>\n",
              "    </tr>\n",
              "    <tr>\n",
              "      <th>2</th>\n",
              "      <td>f1 score</td>\n",
              "      <td>0.757798</td>\n",
              "      <td>0.755629</td>\n",
              "    </tr>\n",
              "    <tr>\n",
              "      <th>3</th>\n",
              "      <td>roc_auc score</td>\n",
              "      <td>0.809085</td>\n",
              "      <td>0.813096</td>\n",
              "    </tr>\n",
              "  </tbody>\n",
              "</table>\n",
              "</div>\n",
              "      <button class=\"colab-df-convert\" onclick=\"convertToInteractive('df-467bb1b7-b511-491d-a12e-20323c5642a2')\"\n",
              "              title=\"Convert this dataframe to an interactive table.\"\n",
              "              style=\"display:none;\">\n",
              "        \n",
              "  <svg xmlns=\"http://www.w3.org/2000/svg\" height=\"24px\"viewBox=\"0 0 24 24\"\n",
              "       width=\"24px\">\n",
              "    <path d=\"M0 0h24v24H0V0z\" fill=\"none\"/>\n",
              "    <path d=\"M18.56 5.44l.94 2.06.94-2.06 2.06-.94-2.06-.94-.94-2.06-.94 2.06-2.06.94zm-11 1L8.5 8.5l.94-2.06 2.06-.94-2.06-.94L8.5 2.5l-.94 2.06-2.06.94zm10 10l.94 2.06.94-2.06 2.06-.94-2.06-.94-.94-2.06-.94 2.06-2.06.94z\"/><path d=\"M17.41 7.96l-1.37-1.37c-.4-.4-.92-.59-1.43-.59-.52 0-1.04.2-1.43.59L10.3 9.45l-7.72 7.72c-.78.78-.78 2.05 0 2.83L4 21.41c.39.39.9.59 1.41.59.51 0 1.02-.2 1.41-.59l7.78-7.78 2.81-2.81c.8-.78.8-2.07 0-2.86zM5.41 20L4 18.59l7.72-7.72 1.47 1.35L5.41 20z\"/>\n",
              "  </svg>\n",
              "      </button>\n",
              "      \n",
              "  <style>\n",
              "    .colab-df-container {\n",
              "      display:flex;\n",
              "      flex-wrap:wrap;\n",
              "      gap: 12px;\n",
              "    }\n",
              "\n",
              "    .colab-df-convert {\n",
              "      background-color: #E8F0FE;\n",
              "      border: none;\n",
              "      border-radius: 50%;\n",
              "      cursor: pointer;\n",
              "      display: none;\n",
              "      fill: #1967D2;\n",
              "      height: 32px;\n",
              "      padding: 0 0 0 0;\n",
              "      width: 32px;\n",
              "    }\n",
              "\n",
              "    .colab-df-convert:hover {\n",
              "      background-color: #E2EBFA;\n",
              "      box-shadow: 0px 1px 2px rgba(60, 64, 67, 0.3), 0px 1px 3px 1px rgba(60, 64, 67, 0.15);\n",
              "      fill: #174EA6;\n",
              "    }\n",
              "\n",
              "    [theme=dark] .colab-df-convert {\n",
              "      background-color: #3B4455;\n",
              "      fill: #D2E3FC;\n",
              "    }\n",
              "\n",
              "    [theme=dark] .colab-df-convert:hover {\n",
              "      background-color: #434B5C;\n",
              "      box-shadow: 0px 1px 3px 1px rgba(0, 0, 0, 0.15);\n",
              "      filter: drop-shadow(0px 1px 2px rgba(0, 0, 0, 0.3));\n",
              "      fill: #FFFFFF;\n",
              "    }\n",
              "  </style>\n",
              "\n",
              "      <script>\n",
              "        const buttonEl =\n",
              "          document.querySelector('#df-467bb1b7-b511-491d-a12e-20323c5642a2 button.colab-df-convert');\n",
              "        buttonEl.style.display =\n",
              "          google.colab.kernel.accessAllowed ? 'block' : 'none';\n",
              "\n",
              "        async function convertToInteractive(key) {\n",
              "          const element = document.querySelector('#df-467bb1b7-b511-491d-a12e-20323c5642a2');\n",
              "          const dataTable =\n",
              "            await google.colab.kernel.invokeFunction('convertToInteractive',\n",
              "                                                     [key], {});\n",
              "          if (!dataTable) return;\n",
              "\n",
              "          const docLinkHtml = 'Like what you see? Visit the ' +\n",
              "            '<a target=\"_blank\" href=https://colab.research.google.com/notebooks/data_table.ipynb>data table notebook</a>'\n",
              "            + ' to learn more about interactive tables.';\n",
              "          element.innerHTML = '';\n",
              "          dataTable['output_type'] = 'display_data';\n",
              "          await google.colab.output.renderOutput(dataTable, element);\n",
              "          const docLink = document.createElement('div');\n",
              "          docLink.innerHTML = docLinkHtml;\n",
              "          element.appendChild(docLink);\n",
              "        }\n",
              "      </script>\n",
              "    </div>\n",
              "  </div>\n",
              "  "
            ]
          },
          "metadata": {},
          "execution_count": 62
        }
      ],
      "source": [
        "# XGBoost.\n",
        "xgb=XGBClassifier(class_weight='balanced')\n",
        "# Training and Collecting the results for the classifier.\n",
        "results=model_results(xgb,X_train,y_train,X_test,y_test)\n",
        "results"
      ]
    },
    {
      "cell_type": "markdown",
      "metadata": {
        "id": "395Zgnoie83H"
      },
      "source": [
        "**Inference** : \n",
        "*   The training and test scores for XGBoost don't differ much so the model is not overfitting or underfitting.\n",
        "*   The XGBoost gives test score of precison as 0.759 and roc_auc as 0.813 ,recall score as 0.810, and f1 score as 0.755.\n",
        "*   It is able to correctly classify 9734 points out of 9836 of class 0 which is a great job done.\n",
        "*   It is able to correctly classify 415 points out of 2208 of class 1, but no points of class 2 have been classified which is not a good sign."
      ]
    },
    {
      "cell_type": "code",
      "execution_count": null,
      "metadata": {
        "colab": {
          "base_uri": "https://localhost:8080/"
        },
        "id": "gQRqff3Y4O0Z",
        "outputId": "368034e9-249d-44ef-b353-9c871a84face"
      },
      "outputs": [
        {
          "output_type": "stream",
          "name": "stdout",
          "text": [
            "{'learning_rate': 0.1, 'n_estimators': 500}\n"
          ]
        }
      ],
      "source": [
        "# Hyper parameter tuning.\n",
        "xgb=XGBClassifier(class_weight='balanced')\n",
        "parameters={'n_estimators':[10,100,200,500],'learning_rate':[0.001,0.01,0.1,0.5]}\n",
        "# Collecting best params for the classifier.\n",
        "best_params=model_best_params(xgb,parameters,X_train,y_train)\n",
        "print(best_params)"
      ]
    },
    {
      "cell_type": "code",
      "execution_count": null,
      "metadata": {
        "colab": {
          "base_uri": "https://localhost:8080/",
          "height": 437
        },
        "id": "ffjYBznn5cug",
        "outputId": "0b757c93-fd0d-485a-9a2a-979e5b8afe4a"
      },
      "outputs": [
        {
          "output_type": "display_data",
          "data": {
            "text/plain": [
              "<Figure size 432x288 with 2 Axes>"
            ],
            "image/png": "[encoded data removed]"
          },
          "metadata": {
            "needs_background": "light"
          }
        },
        {
          "output_type": "execute_result",
          "data": {
            "text/plain": [
              "           Metrics  Train Score  Test Score\n",
              "0  precision score     0.797104    0.768637\n",
              "1     recall score     0.819231    0.814921\n",
              "2         f1 score     0.775148    0.768463\n",
              "3    roc_auc score     0.828635    0.819543"
            ],
            "text/html": [
              "\n",
              "  <div id=\"df-344bd36b-7e89-4f48-abb4-15d689453eb0\">\n",
              "    <div class=\"colab-df-container\">\n",
              "      <div>\n",
              "<style scoped>\n",
              "    .dataframe tbody tr th:only-of-type {\n",
              "        vertical-align: middle;\n",
              "    }\n",
              "\n",
              "    .dataframe tbody tr th {\n",
              "        vertical-align: top;\n",
              "    }\n",
              "\n",
              "    .dataframe thead th {\n",
              "        text-align: right;\n",
              "    }\n",
              "</style>\n",
              "<table border=\"1\" class=\"dataframe\">\n",
              "  <thead>\n",
              "    <tr style=\"text-align: right;\">\n",
              "      <th></th>\n",
              "      <th>Metrics</th>\n",
              "      <th>Train Score</th>\n",
              "      <th>Test Score</th>\n",
              "    </tr>\n",
              "  </thead>\n",
              "  <tbody>\n",
              "    <tr>\n",
              "      <th>0</th>\n",
              "      <td>precision score</td>\n",
              "      <td>0.797104</td>\n",
              "      <td>0.768637</td>\n",
              "    </tr>\n",
              "    <tr>\n",
              "      <th>1</th>\n",
              "      <td>recall score</td>\n",
              "      <td>0.819231</td>\n",
              "      <td>0.814921</td>\n",
              "    </tr>\n",
              "    <tr>\n",
              "      <th>2</th>\n",
              "      <td>f1 score</td>\n",
              "      <td>0.775148</td>\n",
              "      <td>0.768463</td>\n",
              "    </tr>\n",
              "    <tr>\n",
              "      <th>3</th>\n",
              "      <td>roc_auc score</td>\n",
              "      <td>0.828635</td>\n",
              "      <td>0.819543</td>\n",
              "    </tr>\n",
              "  </tbody>\n",
              "</table>\n",
              "</div>\n",
              "      <button class=\"colab-df-convert\" onclick=\"convertToInteractive('df-344bd36b-7e89-4f48-abb4-15d689453eb0')\"\n",
              "              title=\"Convert this dataframe to an interactive table.\"\n",
              "              style=\"display:none;\">\n",
              "        \n",
              "  <svg xmlns=\"http://www.w3.org/2000/svg\" height=\"24px\"viewBox=\"0 0 24 24\"\n",
              "       width=\"24px\">\n",
              "    <path d=\"M0 0h24v24H0V0z\" fill=\"none\"/>\n",
              "    <path d=\"M18.56 5.44l.94 2.06.94-2.06 2.06-.94-2.06-.94-.94-2.06-.94 2.06-2.06.94zm-11 1L8.5 8.5l.94-2.06 2.06-.94-2.06-.94L8.5 2.5l-.94 2.06-2.06.94zm10 10l.94 2.06.94-2.06 2.06-.94-2.06-.94-.94-2.06-.94 2.06-2.06.94z\"/><path d=\"M17.41 7.96l-1.37-1.37c-.4-.4-.92-.59-1.43-.59-.52 0-1.04.2-1.43.59L10.3 9.45l-7.72 7.72c-.78.78-.78 2.05 0 2.83L4 21.41c.39.39.9.59 1.41.59.51 0 1.02-.2 1.41-.59l7.78-7.78 2.81-2.81c.8-.78.8-2.07 0-2.86zM5.41 20L4 18.59l7.72-7.72 1.47 1.35L5.41 20z\"/>\n",
              "  </svg>\n",
              "      </button>\n",
              "      \n",
              "  <style>\n",
              "    .colab-df-container {\n",
              "      display:flex;\n",
              "      flex-wrap:wrap;\n",
              "      gap: 12px;\n",
              "    }\n",
              "\n",
              "    .colab-df-convert {\n",
              "      background-color: #E8F0FE;\n",
              "      border: none;\n",
              "      border-radius: 50%;\n",
              "      cursor: pointer;\n",
              "      display: none;\n",
              "      fill: #1967D2;\n",
              "      height: 32px;\n",
              "      padding: 0 0 0 0;\n",
              "      width: 32px;\n",
              "    }\n",
              "\n",
              "    .colab-df-convert:hover {\n",
              "      background-color: #E2EBFA;\n",
              "      box-shadow: 0px 1px 2px rgba(60, 64, 67, 0.3), 0px 1px 3px 1px rgba(60, 64, 67, 0.15);\n",
              "      fill: #174EA6;\n",
              "    }\n",
              "\n",
              "    [theme=dark] .colab-df-convert {\n",
              "      background-color: #3B4455;\n",
              "      fill: #D2E3FC;\n",
              "    }\n",
              "\n",
              "    [theme=dark] .colab-df-convert:hover {\n",
              "      background-color: #434B5C;\n",
              "      box-shadow: 0px 1px 3px 1px rgba(0, 0, 0, 0.15);\n",
              "      filter: drop-shadow(0px 1px 2px rgba(0, 0, 0, 0.3));\n",
              "      fill: #FFFFFF;\n",
              "    }\n",
              "  </style>\n",
              "\n",
              "      <script>\n",
              "        const buttonEl =\n",
              "          document.querySelector('#df-344bd36b-7e89-4f48-abb4-15d689453eb0 button.colab-df-convert');\n",
              "        buttonEl.style.display =\n",
              "          google.colab.kernel.accessAllowed ? 'block' : 'none';\n",
              "\n",
              "        async function convertToInteractive(key) {\n",
              "          const element = document.querySelector('#df-344bd36b-7e89-4f48-abb4-15d689453eb0');\n",
              "          const dataTable =\n",
              "            await google.colab.kernel.invokeFunction('convertToInteractive',\n",
              "                                                     [key], {});\n",
              "          if (!dataTable) return;\n",
              "\n",
              "          const docLinkHtml = 'Like what you see? Visit the ' +\n",
              "            '<a target=\"_blank\" href=https://colab.research.google.com/notebooks/data_table.ipynb>data table notebook</a>'\n",
              "            + ' to learn more about interactive tables.';\n",
              "          element.innerHTML = '';\n",
              "          dataTable['output_type'] = 'display_data';\n",
              "          await google.colab.output.renderOutput(dataTable, element);\n",
              "          const docLink = document.createElement('div');\n",
              "          docLink.innerHTML = docLinkHtml;\n",
              "          element.appendChild(docLink);\n",
              "        }\n",
              "      </script>\n",
              "    </div>\n",
              "  </div>\n",
              "  "
            ]
          },
          "metadata": {},
          "execution_count": 64
        }
      ],
      "source": [
        "# Training and collecting the results of the classifier with best params.\n",
        "best_xgb=XGBClassifier(n_estimators=500,learning_rate=0.1,class_weight='balanced')\n",
        "results=model_results(best_xgb,X_train,y_train,X_test,y_test)\n",
        "results"
      ]
    },
    {
      "cell_type": "markdown",
      "metadata": {
        "id": "k1ZdgGQmgkai"
      },
      "source": [
        "**Inference** : \n",
        "*   After hypermeter tuning also, the training and test scores for XGBoost don't differ much so the model is not overfitting or underfitting.\n",
        "*   The XGBoost gives test score of precison as 0.768 and roc_auc as 0.819 ,recall score as 0.814, and f1 score as 0.768.\n",
        "*   It is able to correctly classify 9668 points out of 9836 of class 0 which is a great job done.\n",
        "*   It is able to correctly classify 532 points out of 2208 of class 1, but only 2 points of class 2 have been classified which is not a good sign."
      ]
    },
    {
      "cell_type": "markdown",
      "metadata": {
        "id": "44qnlqfdkmq5"
      },
      "source": [
        "### **Model Performance Comparisons**"
      ]
    },
    {
      "cell_type": "code",
      "execution_count": null,
      "metadata": {
        "colab": {
          "base_uri": "https://localhost:8080/"
        },
        "id": "qYTbINt5ktET",
        "outputId": "4186935f-bad6-4103-9585-3fef96db49b5"
      },
      "outputs": [
        {
          "output_type": "stream",
          "name": "stdout",
          "text": [
            "+--------------------------+-----------------+----------------+--------------+-------------+----------+---------+---------------+--------------+\n",
            "|      Model (tuned)       | Train Precision | Test Precision | Train Recall | Test Recall | Train F1 | Test F1 | Train ROC_AUC | Test ROC_AUC |\n",
            "+--------------------------+-----------------+----------------+--------------+-------------+----------+---------+---------------+--------------+\n",
            "|    Logitic Regression    |      0.763      |     0.762      |    0.628     |    0.628    |  0.679   |  0.679  |     0.775     |    0.779     |\n",
            "+--------------------------+-----------------+----------------+--------------+-------------+----------+---------+---------------+--------------+\n",
            "|  Naive Bayes Classifier  |      0.728      |     0.727      |    0.693     |    0.690    |  0.704   |  0.702  |     0.718     |    0.714     |\n",
            "+--------------------------+-----------------+----------------+--------------+-------------+----------+---------+---------------+--------------+\n",
            "| Decision Tree Classifier |      0.943      |     0.727      |    0.923     |    0.684    |  0.928   |  0.703  |     0.989     |    0.646     |\n",
            "+--------------------------+-----------------+----------------+--------------+-------------+----------+---------+---------------+--------------+\n",
            "| Random Forest Classifier |      0.999      |     0.749      |    0.999     |    0.799    |  0.999   |  0.760  |     0.999     |    0.782     |\n",
            "+--------------------------+-----------------+----------------+--------------+-------------+----------+---------+---------------+--------------+\n",
            "|    XGBoost Classifier    |      0.797      |     0.768      |    0.819     |    0.814    |  0.775   |  0.768  |     0.828     |    0.819     |\n",
            "+--------------------------+-----------------+----------------+--------------+-------------+----------+---------+---------------+--------------+\n"
          ]
        }
      ],
      "source": [
        "# Using PrettyTable for better Visualization.\n",
        "from prettytable import PrettyTable,ALL\n",
        "table=PrettyTable(['Model (tuned)','Train Precision','Test Precision','Train Recall','Test Recall','Train F1','Test F1','Train ROC_AUC','Test ROC_AUC'])\n",
        "table.hrules=ALL\n",
        "table.add_row(['Logitic Regression','0.763','0.762','0.628','0.628','0.679','0.679','0.775','0.779'])\n",
        "table.add_row(['Naive Bayes Classifier','0.728','0.727','0.693','0.690','0.704','0.702','0.718','0.714'])\n",
        "table.add_row(['Decision Tree Classifier','0.943','0.727','0.923','0.684','0.928','0.703','0.989','0.646'])\n",
        "table.add_row(['Random Forest Classifier','0.999','0.749','0.999','0.799','0.999','0.760','0.999','0.782'])\n",
        "table.add_row(['XGBoost Classifier','0.797','0.768','0.819','0.814','0.775','0.768','0.828','0.819'])\n",
        "print(table)"
      ]
    },
    {
      "cell_type": "markdown",
      "metadata": {
        "id": "fKt7YFbfQQMA"
      },
      "source": [
        "## **Summary**"
      ]
    },
    {
      "cell_type": "markdown",
      "metadata": {
        "id": "2j23wuihQYbm"
      },
      "source": [
        "\n",
        "*   The objective is to create a machine learning model to characterize the mail that is ignored ; read ; acknowledged by the reader.\n",
        "*   There are total 12 features out of which the feature \"Email_Status \" is a response variable and rest are predictor variables.\n",
        "*   The features \"Customer_Location\", \"Total_Past_Communications\", \"Total_Links\" and \"Total_Images\" have missing values. We need to take care of these missing values.\n",
        "*   There are no duplicate rows in the dataset.\n",
        "*   There is high imbalance in class distribution of response variable. The majority of the data, 54941 data points which is 80.38 % belongs to \"class 0\", 11039 points which is 16.15 % belongs to class \"1\" and very small amount of data, 2373 data points which is 3.47% belongs to \"class 2\".\n",
        "*    The features \"Email_Type\", \"Email_Source_Type\", \"Email_Campaign_Type\" and \"Time_Email_sent_Category\" contains categorical information , so we have changed the datatype according to that.\n",
        "*   There were five categorical and numerical features each afterwards.\n",
        "*   The numerical features 'Subject_Hotness_Score','Total_Links' and  'Total_Images' were postively skewed.\n",
        "*   The Log, Square Root and Cube Root transformations used for removing skewness and these were able to remove the skewness , but Power transformation removed skewness outstandigly and also it standardize the data as well.\n",
        "*   All the numerical features except 'Word_Count' had outliers.\n",
        "*   The numerical features \"Total_Images\" and \"Total_Links\" were highly correlated with correlation value as 0.78.\n",
        "*   There are two subcategories under \"Email_Type\" and \"Email_Source_Type\" features, three subcategories under \"Email_Campaign_Type\" and \"Time_Email_Sent_Category\" features, and seven subcategories under \"Customer_Location\" feature.\n",
        "*   For the feature \"Email_Type\" ,there are more number of points of Type 1 rather than Type 2 .For \"Email_Source_Type\",there is slight difference in ditribution of points of Type 1 and Type 2. For \"Customer_Location\", majority of the points belongs to category G. For \"Email_Campaign_Type\" , majority of the points belongs to Type 2. For the \"Time_Email_Sent_Category\" also, majority of the points belongs to Type 2.\n",
        "*   The distribution of Email_Status is similar in all categorical features except \"Email_campaign_Type\".There are more number of points related to majority class in each feature.For \"Email_campaign_Type\" as Type 1 ,the distribution of points w.r.t to classes can be seen similar, as there are very less number of points for the same.\n",
        "*  The \"Email_Id\" feature contains identity information. So dropping this feature.\n",
        "*  As there is high class imbalancy and we have very few points of class \"2\" and class \"1\" , so we have removed only those outliers which belongs to class \"1\".\n",
        "*   We have used Iterative Imputer to fill missing values of numerical features and treating missing values of categorical feature as seperate category using Simple Imputer.\n",
        "*   To remove collinearity combination of collinear features as a single feature have been taken.\n",
        "*   We have used Power Transformer for transforming numerical features as it helps in removing the skewness and standardizing as well and One hot Encoder for Categorical Features.\n",
        "*   The shape of Train Set becomes - (50075, 22) and Test Set Shape becomes =(12519, 22)\n",
        "*   There is high class imbalancy in the dataset. To solve this we will provide different weights to both the majority and minority classes. The difference in weights will influence the classification of the classes during the training phase. The whole purpose is to penalize the misclassification made by the minority class by setting a higher class weight and at the same time reducing weight for the majority class. The weights can be assigned accoding to classes simply by using parameter \"class_weight\" as \"balanced\" while defining the machine learning models.\n",
        "*   There is high imbalance of classes in the dataset, and also our objective is to classify the mails as ignored ; read and acknowledged as correctly as possible to corresponding classes.So fo this task we will look upon weighted Precison,Recall and F1 score, as Precision and Recall account for true positives which is nothing but correctly classified points belonging to respective classes and F1 score is just hamonic mean of these two which is a combined single metric to look for. We wil also look for ROC_AUC score.\n",
        "*   The objective is to classify the mails as ignored ; read and acknowledged. For this , we need to find the reasons why the mails being ignored , how many being read and finally how many being acknowledged.So wee need a model which an explain the reasons fo classifications , so that we can improve the content for the mails such that mails could get read and acknowledged in the future which helps the owners stay connected with their prospective customers. The feature importance is also very important in this case as we need to know which are the most important features for classification, so we can focus on those to improve the content for mails.\n",
        "*  The training and test scores don't differ much for tuned Logistic Regression which is a good sign.\n",
        "It gives score of precison as 0.762 and roc_auc as 0.779 but recall score is low which is 0.629 and thus f1 score is also low which is 0.68.\n",
        "It is able to correctly classify 7010 points out of 9836 of class 1.\n",
        "It is able to correctly classify 298 points out of 475 of class 2, but it still classified only 569 points out of 2208.\n",
        "* The training and test scores for tuned Naive Bayes don't differ much so the model is not overfitting or underfitting.\n",
        "The Naive Bayes gives test score of precison as 0.727 and roc_auc as 0.714 ,recall score as 0.69, and f1 score as 0.71.\n",
        "It is able to correctly classify 7521 points out of 9836 of class 0.\n",
        "It is able to correctly classify 1128 points out of 2208 of class 1 which is a great job done , but no points of class 2 have been classified which is not a good sign. \n",
        "* The difference between training and test scores of tuned Decision Tree are very large . The model gives very high scores for train set but not for test set , so it is clearly overfitting.\n",
        "The Decision Tree gives test score of precison as 0.727 and roc_auc as 0.646 ,recall score as 0.684, and f1 score as 0.703.\n",
        "It is able to correctly classify 7664 points out of 9836 of class 0.\n",
        "It is able to correctly classify 846 points out of 2208 of class 1 and only 63 points out of 475 of class 2.\n",
        "* The difference between training and test scores of tuned Random Forest are very large. The model gives very high scores for train set but not for test set , so it is clearly overfitting.\n",
        "The Random Forest gives test score of precison as 0.747 and roc_auc as 0.777 ,recall score as 0.798, and f1 score as 0.758.\n",
        "It is able to correctly classify 9450 points out of 9836 of class 0 which is great job done.\n",
        "It is able to correctly classify 531 points out of 2208 of class 1 and only 13 points out of 475 of class 2.\n",
        "*  The training and test scores for XGBoost don't differ much so the model is not overfitting or underfitting.\n",
        "The XGBoost gives test score of precison as 0.768 and roc_auc as 0.819 ,recall score as 0.814, and f1 score as 0.768.\n",
        "It is able to correctly classify 9668 points out of 9836 of class 0 which is a great job done.\n",
        "It is able to correctly classify 532 points out of 2208 of class 1, but only 2 points of class 2 have been classified which is not a good sign.\n"
      ]
    },
    {
      "cell_type": "markdown",
      "metadata": {
        "id": "Myr8rKdGiahX"
      },
      "source": [
        "## **Conclusions**"
      ]
    },
    {
      "cell_type": "markdown",
      "metadata": {
        "id": "CJXwLmsZiz0c"
      },
      "source": [
        "\n",
        "\n",
        "*   The final model selected is Logistic Regression.\n",
        "*   Taking Scores into consideration, XGBoost outperforms all models , but it hardly classify 1 or 2 points corectly from the minority class. At other hand Logistic Regression being simplest model able to correctly classify most number of points from minority class other than any model. Also Logistic Regression is very easy to interpret , as it fits a hyperplane for a classification.\n"
      ]
    },
    {
      "cell_type": "markdown",
      "metadata": {
        "id": "uz_t0BMEjwnt"
      },
      "source": [
        "## **Challenges Faced**"
      ]
    },
    {
      "cell_type": "markdown",
      "metadata": {
        "id": "Lm6JlqehkIe8"
      },
      "source": [
        "\n",
        "\n",
        "*   The dataset contains missing values.\n",
        "*   The dataset contains outliers.\n",
        "*   Some of the features mapped to wrong datatype.\n",
        "*   The dataset cotains correlated features also.\n",
        "\n"
      ]
    }
  ],
  "metadata": {
    "colab": {
      "provenance": [],
      "collapsed_sections": [
        "sAMnI5Z4CfVf"
      ],
      "authorship_tag": "ABX9TyPG2aYwMW8cGPeD9cOGkP0j",
      "include_colab_link": true
    },
    "kernelspec": {
      "display_name": "Python 3",
      "name": "python3"
    },
    "language_info": {
      "name": "python"
    }
  },
  "nbformat": 4,
  "nbformat_minor": 0
}